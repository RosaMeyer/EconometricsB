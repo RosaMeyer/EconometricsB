{
 "cells": [
  {
   "cell_type": "markdown",
   "metadata": {},
   "source": [
    "# Numerical Optimization of Univariate Functions\n",
    "Most estimation procedures involve maximization of some function, e.g.,\n",
    "likelihood functions or (weighted) squared moment conditions. The\n",
    "purpose of this week's exercise is to introduce the *numerical\n",
    "procedures which are used to maximize the objective function* for\n",
    "various $M$-estimators: Maximum Likelihood (ML), Least Absolute\n",
    "Deviations (LAD), etc.\n",
    "\n",
    "If you are struggling, here is a video that covers linear and quadratic approximations in Python using numerical derivatives: [youtu.be/rzmRTCrNkk0](https://youtu.be/rzmRTCrNkk0). "
   ]
  },
  {
   "cell_type": "code",
   "execution_count": 1,
   "metadata": {},
   "outputs": [],
   "source": [
    "import numpy as np\n",
    "import pandas as pd \n",
    "from matplotlib import pyplot as plt\n",
    "import seaborn as sns\n",
    "sns.set_theme()\n",
    "\n",
    "# make sure any imported files get reloaded if we make changes to them \n",
    "%load_ext autoreload\n",
    "%autoreload 2\n",
    "\n",
    "# user-written \n",
    "import estimation as est"
   ]
  },
  {
   "cell_type": "markdown",
   "metadata": {},
   "source": [
    "# Theory: Iterative Maximization Algorithm\n",
    "\n",
    "The maximization algorithms in this course are all *iterative* in the\n",
    "sense that they start from some initial guess of the parameter,\n",
    "$\\boldsymbol{\\theta}_0$, specified by the researcher. At each iteration, the\n",
    "algorithm moves to a new value of the parameters $\\boldsymbol{\\theta }$ at which\n",
    "the likelihood function, $\\ell \\left( \\boldsymbol{\\theta }\\right)$, is higher\n",
    "than at the previous value of $\\boldsymbol{\\theta }$. Note that the subscripts,\n",
    "thus, are used in this context to express how many iterations the\n",
    "algorithm has run over, i.e., we denote the current value of\n",
    "$\\boldsymbol{\\theta }$ as $\\boldsymbol{\\theta }_{t}$, which is attained after $t$\n",
    "iterations from the starting values $\\boldsymbol{\\theta }_{0}.$ The\n",
    "question is then how to determine the best value of $\\boldsymbol{\\theta} _{t+1}$\n",
    "given $\\boldsymbol{\\theta}_t$?\n",
    "\n",
    "\n",
    "## Newton-Raphson (N-R): Matrix Notation\n",
    "\n",
    "To determine the best value of $\\boldsymbol{\\theta }_{t+1}$, take a second order\n",
    "Taylor's approximation of $\\ell \\left( \\boldsymbol{\\theta}_{t+1}\\right)$ around $\\ell \\left( \\boldsymbol{\\theta}_{t}\\right) :$\n",
    "\n",
    "$$\\ell \\left( \\boldsymbol{\\theta }_{t+1}\\right) =\\ell \\left( \\boldsymbol{\\theta }_{t}\\right) +\\left( \\boldsymbol{\\theta }_{t+1}-\\boldsymbol{\\theta }_{t}\\right)^{\\prime }\\mathbf{g}_{t}+\\frac{1}{2}\\left( \\boldsymbol{\\theta }_{t+1}-\\boldsymbol{\\theta }_{t}\\right) ^{\\prime }\\mathbf{H}_{t}\\left( \\boldsymbol{\\theta }_{t+1}-\\boldsymbol{\\theta }_{t}\\right)$$ \n",
    "\n",
    "where $\\mathbf{g}_{t}$ and\n",
    "$\\mathbf{H}_{t}$ are the gradient and Hessian of the log--likelihood\n",
    "function evaluated at $\\boldsymbol{\\theta }_{t}$. The gradient equals the\n",
    "average of the scores, i.e., $\\mathbf{g}_{t} \\equiv \\frac{1}{%\n",
    "N}\\sum_{i=1}^{N}\\mathbf{s}_{i}\\left( \\boldsymbol{\\theta }_{t}\\right)$ and $\\mathbf{H}_{t} \\equiv -\\frac{1}{N}\\sum_{i=1}^{N}\\mathbf{H}_{i}\\left( \\boldsymbol{\\theta \n",
    "}_{t}\\right)$ (i.e., the subscript $t$ refers to the iteration).\n",
    "\n",
    "Now find the value that maximizes this approximation to $\\ell\n",
    "\\left( \\boldsymbol{\\theta }_{t+1}\\right).$ The first order conditions are[^1]\n",
    "\n",
    "$$\n",
    "\\nabla _{\\theta _{t+1}}\\ell \\left( \\boldsymbol{\\theta }_{t+1}\\right) =\\mathbf{g}_{t}+\\mathbf{H}_{t}\\left( \\boldsymbol{\\theta }_{t+1}-\\boldsymbol{\\theta }_{t}\\right)\n",
    "\\mathrel{\\mathop :}= \\mathbf{0}\n",
    "$$ \n",
    "\n",
    "with solution \n",
    "\n",
    "$$\n",
    "\\begin{aligned}\n",
    "\\mathbf{H}_{t}\\left( \\boldsymbol{\\theta }_{t+1}-\\boldsymbol{\\theta }_{t}\\right) &=-\\mathbf{g}_{t} \\\\\n",
    "\\left( \\boldsymbol{\\theta }_{t+1}-\\boldsymbol{\\theta }_{t}\\right) &=-\\mathbf{H}_{t}^{-1}\\mathbf{g}_{t} \\\\\n",
    "\\boldsymbol{\\theta }_{t+1} &=\\boldsymbol{\\theta }_{t}-\\mathbf{H}_{t}^{-1}\\mathbf{g}_{t} \\quad \\quad \\quad (1)\n",
    "\\end{aligned} \n",
    "$$\n",
    "\n",
    "This step formalizes the Newton-Raphson (N-R) Algorithm.\n"
   ]
  },
  {
   "cell_type": "markdown",
   "metadata": {},
   "source": [
    "## Example: a quadratic function\n",
    "\n",
    "Consider first the quadratic scalar function \n",
    "$$f\\left( \\theta \\right) =a+b\\theta +c\\theta ^{2}, \\quad \\theta \\in \\mathbb{R},$$\n",
    "\n",
    "assuming that $c>0$ (i.e. $f$ is *concave* and has precisely one global minimum). \n",
    "The first-order conditions give \n",
    "$$\n",
    "\\begin{aligned}\n",
    "f'(\\theta^*)      &= 0 \n",
    "\\\\ \\Leftrightarrow\n",
    "b + 2c \\theta^*   &= 0 \n",
    "\\\\ \\Leftrightarrow\n",
    "\\theta^* &= -\\frac{b}{2c}\n",
    "\\end{aligned}\n",
    "$$\n",
    "\n",
    "In this case, we know *analytically* what the minimum is, so we can find it in just one calculation. Therefore, it is a useful, simple case to go through the steps of N-R. "
   ]
  },
  {
   "cell_type": "markdown",
   "metadata": {},
   "source": [
    "## Question 1: Calculate first step by hand\n",
    "\n",
    "Consider the quadratic function $f\\left( \\theta\\right)$ for\n",
    "$a=1,b=2,c=3$. Calculate by hand the first step\n",
    "$\\theta_{t+1}-\\theta_{t}$ of the N-R algorithm applied to\n",
    "$f\\left(\\theta\\right)$ starting in $\\theta_{0} = 5$. Compare\n",
    "$\\theta_{t+1}$ to the analytical maximum $-\\frac{b}{2c}$. What do\n",
    "you find? Is this surprising? What happens if you change the\n",
    "starting point?\n",
    "\n",
    "* *Hint:* To make it clear, from a starting point of $\\theta_0 = 5$, we find $\\theta_{t + 1}$ by calculating eq. (1). Does it make sense that $g_t$ is the first derivative of $f$ (which is already given to you). And that $H_t$ is the second derivative of $f$?"
   ]
  },
  {
   "cell_type": "markdown",
   "metadata": {},
   "source": [
    "## Question 2: Solve numerically using code.\n",
    "\n",
    "Now maximize (numerically) the quadratic function $y(\\theta )$ for $a=1,b=2,c=3$ using the Newton-Raphson algorithm (in Python!). Implement it using a `for` or `while` loop doing the following: \n",
    "\n",
    "* **Initialization:** start with `theta0 = 5.0`. \n",
    "* For each iteration, $t$ do: \n",
    "    * **Update theta:** $\\theta_{t+1} = \\theta_{t}-\\frac{f'(\\theta_{t})}{f''(\\theta_{t})}$\n",
    "    * **Check convergence:** Stop iterating when the absolute value of the derivative is smaller than a tolerance of `1e-8`. \n",
    "\n",
    "Try different starting values, $\\theta _{0}$, and see if the required number of iterations changes.\n",
    "Do you get a different result than in Question 1.a? \n",
    "\n",
    "* *Hint: try to compare the forward differenced gradients and Hessian to the analytical one you just computed.*\n",
    "\n",
    "### Programming hints\n",
    "\n",
    "* **First derivative:** Use the numerical gradient calculator `est.forward_diff(func, x0, h)`. It is convenient to provide the input, `func`, as a so-called \"lambda\" (or \"anonymous\") function to specify functions on the go. To recap, watch this video: https://youtu.be/watch?v=loF8zsPaIjs. For example, we can calculate the gradient of our function, $y(\\theta)$, at the point $\\theta = 2.0$ with this code: \n",
    "    ```Python\n",
    "    f = lambda theta: -(a + b*theta + c*theta*theta) # anonymous function handle\n",
    "    theta0 = 2.0 # where we want the derivative evaluated\n",
    "    grad = estimation.forward_diff(f, theta0, h)\n",
    "    ```\n",
    "\n",
    "* **Second derivative:** To compute the second derivative, simply compute the first derivative of the first derivative (the code is provided free of charge below).     \n",
    "    * *Technical detail:* When taking a numerical gradient of a numerical gradient, we are taking many small steps. It turns out that to minimize numerical roundoff error, the *outer* step must be *larger* than the inner. This is why $h \\cong 10^{-8}$ is used inside and $l = 10^{-6}$ outside in the code below. "
   ]
  },
  {
   "cell_type": "code",
   "execution_count": 2,
   "metadata": {},
   "outputs": [],
   "source": [
    "# Initialize function parameters\n",
    "a = 1.0\n",
    "b = 2.0\n",
    "c = 3.0"
   ]
  },
  {
   "cell_type": "code",
   "execution_count": 3,
   "metadata": {},
   "outputs": [
    {
     "name": "stdout",
     "output_type": "stream",
     "text": [
      "Step sizes: h=1.4901161193847656e-08, l=6e-06\n"
     ]
    }
   ],
   "source": [
    "# Initialize step sizes\n",
    "h = np.sqrt(np.finfo(float).eps) # optimal step size for numerical gradients of \"pretty\" functions\n",
    "l = 6e-6  # a larger step size for the outer step\n",
    "print(f'Step sizes: {h=}, {l=}')"
   ]
  },
  {
   "cell_type": "code",
   "execution_count": 4,
   "metadata": {},
   "outputs": [],
   "source": [
    "f   = lambda theta: a + b*theta + c*theta*theta\n",
    "df  = lambda theta: est.forward_diff(f, theta, h)\n",
    "ddf = lambda theta: est.forward_diff(df, theta, l)"
   ]
  },
  {
   "cell_type": "code",
   "execution_count": 5,
   "metadata": {},
   "outputs": [
    {
     "name": "stdout",
     "output_type": "stream",
     "text": [
      "Tolerance satisfied on iteration 3.\n",
      "Final theta: -0.333, with gradient = -0 and hessian = 5.99\n"
     ]
    }
   ],
   "source": [
    "# Algorithm parameters\n",
    "theta0 = 5.0  # Start value\n",
    "maxit = 10  # Number of iterations\n",
    "tol0 = 1e-8  # Tolerance\n",
    "\n",
    "for it in range(maxit):\n",
    "    \n",
    "    # update theta \n",
    "    grad0 = df(theta0)\n",
    "    hess0 = ddf(theta0)\n",
    "    theta = theta0 - grad0/hess0\n",
    "    \n",
    "    criterion = abs(df(theta))\n",
    "    if criterion <= tol0:\n",
    "        print(f'Tolerance satisfied on iteration {it}.')\n",
    "        break\n",
    "    \n",
    "    # update previous theta\n",
    "    theta0 = theta\n",
    "\n",
    "if it == maxit:\n",
    "    print(f'Error, reached {maxit=} without converging!')\n",
    "\n",
    "print(f'Final theta: {theta:.3f}, with gradient = {df(theta):.5g} and hessian = {ddf(theta):.2f}')"
   ]
  },
  {
   "cell_type": "markdown",
   "metadata": {},
   "source": [
    "# Question 3: A non-quadratic function\n",
    "\n",
    "Consider now the function\n",
    "$$\n",
    "z\\left( \\theta \\right) =2\\theta^{2}+\\theta^{3}-\\exp \\left( \\theta\\right)\n",
    "$$"
   ]
  },
  {
   "cell_type": "markdown",
   "metadata": {},
   "source": [
    "$$z'(x) = 4 \\theta + 3 \\theta^2 - \\exp(\\theta)$$"
   ]
  },
  {
   "cell_type": "markdown",
   "metadata": {},
   "source": [
    "$$z''(x) = 4 + 6 \\theta - \\exp(\\theta)$$"
   ]
  },
  {
   "cell_type": "code",
   "execution_count": 6,
   "metadata": {},
   "outputs": [],
   "source": [
    "z   = lambda theta: 2*theta**2 + theta**3 - np.exp(theta)\n",
    "dz  = lambda theta: est.forward_diff(z, theta, h)\n",
    "ddz = lambda theta: est.forward_diff(dz, theta, l)"
   ]
  },
  {
   "cell_type": "code",
   "execution_count": 7,
   "metadata": {},
   "outputs": [
    {
     "data": {
      "image/png": "[encoded data removed]",
      "text/plain": [
       "<Figure size 432x288 with 1 Axes>"
      ]
     },
     "metadata": {},
     "output_type": "display_data"
    }
   ],
   "source": [
    "fig,ax = plt.subplots()\n",
    "xx = np.linspace(-6, 6, 100)\n",
    "ax.plot(xx, z(xx))\n",
    "ax.set_ylim(-20, 50); "
   ]
  },
  {
   "cell_type": "markdown",
   "metadata": {},
   "source": [
    "\\## Question 3.a: Plot the approximating 2nd-order polynomial \n",
    "\n",
    "Recall that the 2nd-order Taylor approximation, $f(\\theta)$, around a local point, $\\theta_0$, (in matrix notation) is given by \n",
    "$$ f(\\theta) = z(\\theta_0) + g(\\theta_0) (\\theta - \\theta_0) + \\frac12 (\\theta - \\theta_0)' H(\\theta_0) (\\theta - \\theta_0). $$ \n",
    "When $z$ is just a regular scalar function, $z : \\mathbb{R} \\to \\mathbb{R}$, this simplifies to \n",
    "$$ f(\\theta) = z(\\theta_0) + z'(\\theta_0) (\\theta - \\theta_0) + \\frac12 z''(\\theta_0) (\\theta - \\theta_0)^2. $$ \n",
    "\n",
    "> Write the function, `f_approx(theta, theta0)`, implementing $f(\\theta)$ for a given value of `theta0`. \n",
    "\n",
    "***Hint:*** Watch this video [youtu.be/rzmRTCrNkk0](https://youtu.be/rzmRTCrNkk0)."
   ]
  },
  {
   "cell_type": "code",
   "execution_count": 8,
   "metadata": {},
   "outputs": [],
   "source": [
    "def f_approx(theta, theta0): \n",
    "    f0 = z(theta0)\n",
    "    g0 = dz(theta0)\n",
    "    h0 = ddz(theta0)\n",
    "    \n",
    "    diff = theta - theta0\n",
    "    f = f0 + g0*diff + 0.5 * h0 *(diff**2)\n",
    "    \n",
    "    return f"
   ]
  },
  {
   "cell_type": "code",
   "execution_count": 9,
   "metadata": {},
   "outputs": [],
   "source": [
    "# test your function \n",
    "assert f_approx(1.0, 1.0) == z(1.0), 'The function should be correct when evaluated at x=x0.'\n",
    "assert np.isclose(f_approx(1.5, 1.0), 3.3335504283088744)"
   ]
  },
  {
   "cell_type": "code",
   "execution_count": 10,
   "metadata": {},
   "outputs": [
    {
     "data": {
      "image/png": "[encoded data removed]",
      "text/plain": [
       "<Figure size 432x288 with 1 Axes>"
      ]
     },
     "metadata": {},
     "output_type": "display_data"
    }
   ],
   "source": [
    "# this code will create a plot of your approximating function together with the true function\n",
    "\n",
    "x0 = 2 # <--- try changing this \n",
    "\n",
    "xx = np.linspace(-6, 6, 100)\n",
    "zz = np.empty(xx.shape)\n",
    "ff = np.empty(xx.shape)\n",
    "\n",
    "for i,x in enumerate(xx): \n",
    "    zz[i] = z(x)\n",
    "    ff[i] = f_approx(x, x0)\n",
    "\n",
    "fig,ax = plt.subplots(); \n",
    "ax.plot(xx, zz, label='True function')\n",
    "ax.plot(xx, ff, label='Approximation')\n",
    "ax.plot(x0,z(x0), 'ok', label='theta0')\n",
    "ax.legend(loc='best')\n",
    "ax.set_ylim(-20, 50); # ensures the plot isn't dancing around "
   ]
  },
  {
   "cell_type": "markdown",
   "metadata": {},
   "source": [
    "## Question 3.b: Run the algorithm for many different starting values\n",
    "\n",
    "Maximize $z\\left( \\theta\\right)$ (numerically) for\n",
    "$\\theta\\in \\left[-5,5\\right]$ using the N-R algorithm. Use the starting\n",
    "values $\\theta_{0} \\in \\left\\{ -5,-3,-1,0,1,3,5\\right\\}$. Do you find\n",
    "local minima and maxima? What is the unique global maximum of\n",
    "$z\\left( \\theta\\right)$? Does the Newton-Raphson method fail to converge\n",
    "to the global maximum? Why?\n"
   ]
  },
  {
   "cell_type": "code",
   "execution_count": null,
   "metadata": {},
   "outputs": [],
   "source": [
    "# We want to start from different start values\n",
    "startvals = [-5.0, -3.0, -1.0, 0.0, 1.0, 3.0, 5.0]\n",
    "n_vals = len(startvals)  # This is to help us to know how many start values to loop over\n",
    "maxit = 100  # Max number of iterations\n",
    "tolerance = 1e-8\n",
    "\n",
    "# The following empty lists are to store the values achieved from the different starting points.\n",
    "xopts     = np.zeros(n_vals)  # Store optimal x we reached\n",
    "numevals  = np.zeros(n_vals)  # how many iterations it took\n",
    "fvals     = np.zeros(n_vals)  # the function value we reached\n",
    "gradients = np.zeros(n_vals)  # the gradient value we reached\n",
    "hess      = np.zeros(n_vals)  # the hessian value we reached"
   ]
  },
  {
   "cell_type": "code",
   "execution_count": null,
   "metadata": {},
   "outputs": [],
   "source": [
    "for i,theta0 in enumerate(startvals):\n",
    "    \n",
    "    for it in range(maxit): \n",
    "        \n",
    "        # update step \n",
    "        grad0 = dz(theta0)\n",
    "        hess0 = ddz(theta0)\n",
    "        theta = theta0 - grad0/hess0\n",
    "        \n",
    "        # check convergence \n",
    "        criterion = abs(dz(theta))\n",
    "        if criterion < tolerance: \n",
    "            break \n",
    "        \n",
    "        theta0 = theta\n",
    "            \n",
    "    # store the results from the final iteration \n",
    "    xopts[i]      = theta\n",
    "    fvals[i]      = z(theta)\n",
    "    gradients[i]  = dz(theta)\n",
    "    hess[i]       = ddz(theta)\n",
    "    numevals[i]   = it+1"
   ]
  },
  {
   "cell_type": "code",
   "execution_count": null,
   "metadata": {},
   "outputs": [],
   "source": [
    "# put results into a convenient dataframe\n",
    "tab = pd.DataFrame({\n",
    "    'x0': startvals, \n",
    "    'x':           xopts, \n",
    "    'f(x)':        fvals, \n",
    "    'gradient':    gradients, \n",
    "    'hessian':     hess, \n",
    "    'iterations':  numevals\n",
    "})\n",
    "tab.round(3)"
   ]
  },
  {
   "cell_type": "markdown",
   "metadata": {},
   "source": [
    "You should get something like this:\n",
    "\n",
    "|    |   x0 |      x |   f(x) |   gradient |   hessian |   iterations |\n",
    "|---:|-----:|-------:|-------:|-----------:|----------:|-------------:|\n",
    "|  0 |   -5 | -1.393 |  0.93  |          0 |    -4.604 |            8 |\n",
    "|  1 |   -3 | -1.393 |  0.93  |         -0 |    -4.605 |            6 |\n",
    "|  2 |   -1 | -1.393 |  0.93  |         -0 |    -4.608 |            4 |\n",
    "|  3 |    0 |  0.273 | -1.144 |          0 |     4.311 |            7 |\n",
    "|  4 |    1 |  0.273 | -1.144 |          0 |     4.344 |            5 |\n",
    "|  5 |    3 | -1.393 |  0.93  |         -0 |    -4.607 |            8 |\n",
    "|  6 |    5 |  4.276 | 42.799 |          0 |   -42.316 |            6 |"
   ]
  },
  {
   "cell_type": "code",
   "execution_count": null,
   "metadata": {},
   "outputs": [],
   "source": [
    "xx = np.linspace(-6,6,100)\n",
    "fig,ax = plt.subplots()\n",
    "\n",
    "ax.plot(xx, z(xx)); # plot the function \n",
    "\n",
    "# show visually the connection between starting point and ending value \n",
    "for i,x0 in enumerate(startvals): \n",
    "    z0 = z(x0)            # evaluate at starting values \n",
    "    x = tab.iloc[i].x     # where the optimizer went to \n",
    "    ax.plot(x0,z0,'ok')   # draw starting value\n",
    "    ax.plot(x,z(x),'-dr') # draw converged value \n",
    "    ax.plot([x0,x], [z0,z(x)], '-r', alpha=.8) # line connecting the two points\n",
    "\n",
    "ax.legend(['z(x)', 'Start', 'Optimum'], loc='best'); "
   ]
  },
  {
   "cell_type": "markdown",
   "metadata": {},
   "source": [
    "## Question 3.c: Intuition\n",
    "\n",
    "The function $z(\\theta)$ clearly has three stationary points: -1.393, 0.273, and 4.276. \n",
    "\n",
    "* Classify the points as local vs. global, and maxima vs. minima. \n",
    "\n",
    "* Why is the global optimum so hard to find? When we start at $\\theta_0 = 3.0$, we end up quite far away and move in the wrong direction (gisp!), why? "
   ]
  },
  {
   "cell_type": "markdown",
   "metadata": {},
   "source": [
    "> **Answer:** The function switches from concave to convex around $\\theta = 3$. Newton steps only take us in the right direction when the function $z$ is in *concave* regions. "
   ]
  },
  {
   "cell_type": "markdown",
   "metadata": {},
   "source": [
    "# Question 4: Write it as a function \n",
    "\n",
    "Write a function `minimize(Q, theta0, maxit, tol)`, where the inputs are \n",
    "* `Q`: a function handle, \n",
    "* `theta0`: a starting value, \n",
    "* `maxit`: max no. iterations, \n",
    "* `tol`: the tolerance determining when to exit. \n",
    "\n",
    "and the output should be the value of `theta`, where `Q` attains its minimum. \n",
    "\n",
    "Check that your minimizer on these functions: \n",
    "$$ \n",
    "\\begin{aligned} \n",
    "Q(\\theta) &= \\frac{1}{\\theta} + \\exp(\\theta), \\quad &\\theta \\in [0.1; 3], \\theta_0 = 3. \\\\ \n",
    "Q(\\theta) &= \\cos(\\theta), \\quad &\\theta \\in [0; 2 \\pi], \\theta_0 = 3. \\\\ \n",
    "\\end{aligned}\n",
    "$$\n",
    "\n",
    "Investigate what happens if you change the starting value, $\\theta_0$. Can you make the optimizer fail (based on inspecting the function graphically and what you know about N-R)? \n",
    "\n",
    "As an extra exercise, try writing the two functions in separate `.py` files, `Q1.py` and `Q2.py` and importing them instead of using `lambda` functions. (Later in the course, we will only be importing.) \n",
    "\n",
    "***Hints:*** \n",
    "* Since `Q` is an input to `minimize`, we must create the derivative functions (using `forward_diff()`) inside of our function as lambda functions. \n",
    "* Remember to print some output if the minimizer hit the max no. iterations without converging. "
   ]
  },
  {
   "cell_type": "code",
   "execution_count": 15,
   "metadata": {},
   "outputs": [],
   "source": [
    "def minimize(Q, theta_start, maxit=100, tolerance=1e-8, PRINTITER=False, PRINTFINAL=False, stepsize=1.0, h=h, l=l): \n",
    "    '''minimize: Newton-Raphson algorithm for a general function input, z. \n",
    "    '''\n",
    "    \n",
    "    # set up numerical derivative functions \n",
    "    dQ  = lambda theta: est.forward_diff(Q,  theta, h)\n",
    "    ddQ = lambda theta: est.forward_diff(dQ, theta, l)\n",
    "    \n",
    "    # initialize \n",
    "    theta0 = theta_start # to avoid writing to inputs later on  \n",
    "    \n",
    "    # primary algorithm loop \n",
    "    for it in range(maxit): \n",
    "        \n",
    "        # update step \n",
    "        grad0 = dQ(theta0)\n",
    "        hess0 = ddQ(theta0)\n",
    "        theta = theta0 - stepsize * grad0/hess0\n",
    "        \n",
    "        # check convergence \n",
    "        criterion = abs(dQ(theta))\n",
    "        if criterion < tolerance: \n",
    "            break \n",
    "        \n",
    "        if PRINTITER: \n",
    "            print(f'{it=:4d}: {theta=:8.4g}')\n",
    "        \n",
    "        # update previous value of theta \n",
    "        theta0 = theta\n",
    "    \n",
    "    if it == maxit-1: \n",
    "        print(f'Warning: non-convergence after {maxit} it., theta is {theta:8.4g}.')\n",
    "    \n",
    "    # after we have converged (or reached max iter)\n",
    "    return theta"
   ]
  },
  {
   "cell_type": "code",
   "execution_count": 16,
   "metadata": {},
   "outputs": [],
   "source": [
    "def plot_result(Q, theta_star, theta_low, theta_high): \n",
    "    # plot it \n",
    "    fig,ax = plt.subplots(); \n",
    "    tt = np.linspace(theta_low,theta_high,100)\n",
    "    ax.plot(tt, Q(tt), '-', label='Q');\n",
    "    ax.plot(theta_star, Q(theta_star), 'or', label='Optimum');\n",
    "    ax.legend(); "
   ]
  },
  {
   "cell_type": "markdown",
   "metadata": {},
   "source": [
    "## Question 4a\n",
    "$$ Q(\\theta) = \\frac{1}{\\theta} + \\exp(\\theta), \\quad \\theta \\in [0.1; 3], \\theta_0 = 3. $$"
   ]
  },
  {
   "cell_type": "code",
   "execution_count": 17,
   "metadata": {},
   "outputs": [
    {
     "data": {
      "image/png": "[encoded data removed]",
      "text/plain": [
       "<Figure size 432x288 with 1 Axes>"
      ]
     },
     "metadata": {},
     "output_type": "display_data"
    }
   ],
   "source": [
    "import Q1\n",
    "theta_star = minimize(Q1.Q, 3)\n",
    "plot_result(Q1.Q, theta_star, 0.1, 3.0)"
   ]
  },
  {
   "cell_type": "markdown",
   "metadata": {},
   "source": [
    "## Question 4b \n",
    "$$Q(\\theta) = \\cos(\\theta), \\quad \\theta \\in [0; 2 \\pi], \\theta_0 = 3. $$"
   ]
  },
  {
   "cell_type": "code",
   "execution_count": 18,
   "metadata": {},
   "outputs": [
    {
     "data": {
      "image/png": "[encoded data removed]",
      "text/plain": [
       "<Figure size 432x288 with 1 Axes>"
      ]
     },
     "metadata": {},
     "output_type": "display_data"
    }
   ],
   "source": [
    "from Q2 import Q\n",
    "theta0 = 3.\n",
    "Q(theta0) # checking that the function works\n",
    "theta_star = minimize(Q, theta0)\n",
    "plot_result(Q, theta_star, 0., 2*np.pi)"
   ]
  },
  {
   "cell_type": "markdown",
   "metadata": {},
   "source": [
    "# Question 5: A tricky example\n",
    "\n",
    "Try your optimizer on hyperbolic cosine: \n",
    "\n",
    "$$ Q(\\theta) = \\cosh(\\theta) , \\quad \\theta \\in [-5; 5], \\theta_0 = 1. $$ \n",
    "\n",
    "Verify that the optimizer fails to converge (find flat gradients), but that the gradients are indeed flat at `theta = 0.0`. Try changing the following to see what remedies the situation: \n",
    "* `maxit`: does more iterations help? \n",
    "* `h`: finer or coarser step sizes? \n",
    "* `theta0`: look at the graph and think of a starting value that should help. "
   ]
  },
  {
   "cell_type": "code",
   "execution_count": 19,
   "metadata": {},
   "outputs": [],
   "source": [
    "Q = lambda theta : np.cosh(theta)"
   ]
  },
  {
   "cell_type": "code",
   "execution_count": 20,
   "metadata": {},
   "outputs": [
    {
     "data": {
      "image/png": "[encoded data removed]",
      "text/plain": [
       "<Figure size 432x288 with 1 Axes>"
      ]
     },
     "metadata": {},
     "output_type": "display_data"
    }
   ],
   "source": [
    "# have a look at the function \n",
    "xx = np.linspace(-5,5,100)\n",
    "plt.plot(xx, Q(xx)); "
   ]
  },
  {
   "cell_type": "code",
   "execution_count": 21,
   "metadata": {},
   "outputs": [
    {
     "name": "stdout",
     "output_type": "stream",
     "text": [
      "Warning: non-convergence after 100 it., theta is  0.02851.\n"
     ]
    },
    {
     "data": {
      "image/png": "[encoded data removed]",
      "text/plain": [
       "<Figure size 432x288 with 1 Axes>"
      ]
     },
     "metadata": {},
     "output_type": "display_data"
    }
   ],
   "source": [
    "theta_star = minimize(Q, 1.0)\n",
    "plot_result(Q, theta_star, -5., 5.)"
   ]
  },
  {
   "cell_type": "code",
   "execution_count": 22,
   "metadata": {},
   "outputs": [
    {
     "name": "stdout",
     "output_type": "stream",
     "text": [
      "Gradients at final point: 0.02851223887657754\n",
      "Hessian = 1.200001398474251\n"
     ]
    }
   ],
   "source": [
    "dQ = lambda theta : est.forward_diff(Q, theta)\n",
    "ddQ = lambda theta : est.forward_diff(dQ, theta, h=1e-4)\n",
    "\n",
    "print(f'Gradients at final point: {dQ(theta_star)}')\n",
    "print(f'Hessian = {ddQ(theta_star)}')"
   ]
  },
  {
   "cell_type": "code",
   "execution_count": 23,
   "metadata": {},
   "outputs": [
    {
     "name": "stdout",
     "output_type": "stream",
     "text": [
      "theta_star=-7.727755724380551e-05, with grad = -0.0\n"
     ]
    },
    {
     "data": {
      "image/png": "[encoded data removed]",
      "text/plain": [
       "<Figure size 432x288 with 1 Axes>"
      ]
     },
     "metadata": {},
     "output_type": "display_data"
    }
   ],
   "source": [
    "Q = lambda theta : np.cosh(theta)\n",
    "theta_star = minimize(Q, 1.0, l=1e-4, maxit=1000)\n",
    "plot_result(Q, theta_star, -5., 5.)\n",
    "print(f'{theta_star=}, with grad = {dQ(theta_star)}')"
   ]
  }
 ],
 "metadata": {
  "kernelspec": {
   "display_name": "Python 3 (ipykernel)",
   "language": "python",
   "name": "python3"
  },
  "language_info": {
   "codemirror_mode": {
    "name": "ipython",
    "version": 3
   },
   "file_extension": ".py",
   "mimetype": "text/x-python",
   "name": "python",
   "nbconvert_exporter": "python",
   "pygments_lexer": "ipython3",
   "version": "3.8.11"
  }
 },
 "nbformat": 4,
 "nbformat_minor": 4
}
