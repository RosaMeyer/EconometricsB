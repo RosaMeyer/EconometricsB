{
 "cells": [
  {
   "cell_type": "code",
   "execution_count": 1,
   "metadata": {},
   "outputs": [],
   "source": [
    "from sys import path\n",
    "path.append('../')\n",
    "import estimation as est\n",
    "import LinearModels as lm\n",
    "import SampleSelection_post as ssm\n",
    "\n",
    "import numpy as np\n",
    "import pandas as pd\n",
    "from numpy import linalg as la\n",
    "from matplotlib import pyplot as plt\n",
    "from scipy.stats import norm\n",
    "from scipy import optimize\n",
    "\n",
    "%load_ext autoreload\n",
    "%autoreload 2"
   ]
  },
  {
   "cell_type": "markdown",
   "metadata": {},
   "source": [
    "# Introduction\n",
    "\n",
    "In this dataset, you will use a part of the dataset from\n",
    "Conley and Decarolis (2016). The data contains bids for public procurement\n",
    "auctions for roadwork in Italy. In 2008, the Turing Court of Justice\n",
    "ruled that in 276 auctions for roadwork held between 2000 and 2003, the\n",
    "auctions had been rigged by 8 cartels made up of 95 firms. It turns out\n",
    "that the auction format, called the Average Bid Auction (ABA), is\n",
    "particularly susceptible to collusion between bidders. However, for a\n",
    "cartel to be successful at one particular auction, it is essential that\n",
    "many cartel participants be present at that auction. When enough of the\n",
    "cartel is present at the auction, they are able to strategically\n",
    "manipulate the average bid.\n",
    "\n",
    "The implication is that the bids made by a given firm depends on the\n",
    "identity of other firms showing up at the auction. This contradicts a\n",
    "perfectly competitive outcome, in which firms should not condition their\n",
    "bidding on the specific identities of their opponents. Thus, one simple\n",
    "tests of perfect competition might be whether the bid posted by a firm\n",
    "depends on how closely related the firm is to the opposing firms in that\n",
    "auction. If firms are randomly distributed across auctions, we can just\n",
    "regress the bid, $y_{i1}$, on how closely related the firm is to other\n",
    "firms in the auction, controlling for proxies for the \"size\" of the firm\n",
    "(labor, capital, etc.).\n",
    "\n",
    "The issue is that firms are not randomly allocated to auctions. Instead,\n",
    "firms are more likely to participate in auctions that are close to their\n",
    "headquarters. Hence, the distance to the site of the roadwork being\n",
    "auctioned may act as our **exclusion restriction** under the following\n",
    "assumptions:\n",
    "\n",
    "1.  Firms prefer to win projects close to their home location,\n",
    "\n",
    "2.  Conditional on winning an auction, distance does not matter for the\n",
    "    marginal cost (i.e. it is a fixed, sunk cost to go to the site).\n",
    "\n",
    "Of course, 2 may be criticized. The figure below shows the distribution of\n",
    "distances from all eligible firms to the sites, split by whether the\n",
    "firm chose to participate or not. This clearly shows that distance\n",
    "affects whether a firm chooses to participate.\n",
    "\n",
    "<img src=\"../smaller_pic.png\" alt=\"Drawing\" style=\"width: 500px;\"/>\n"
   ]
  },
  {
   "cell_type": "markdown",
   "metadata": {},
   "source": [
    "# Data\n",
    "\n",
    "After deleting rows with missing observations, the data covers 891\n",
    "auctions where a large number of firms considered whether or not to make\n",
    "a bid. There are $N=91,845$ observations where a firm was eligible to\n",
    "make a bid, and if it did, we observe the variable $y_{i1}=1$ (called\n",
    "`participation` in the data). Otherwise, $y_{i1}=0$.\n",
    "\n",
    "The submitted bid, which is only available for the 37,699 observations\n",
    "where $y_{i1}=1$, is the variable `bid_discount`, which we denote\n",
    "$y_{i2}$. It indicates the percentage discount relative to the\n",
    "reservation price chosen by the auctioneer, which a firm is willing to\n",
    "conduct the project for. The variable is missing (i.e. equal to `NaN`)\n",
    "whenever $y_{i1}=0$ -- that is, when the given firm did not submit a bid\n",
    "in the auction.\n",
    "\n",
    "The exclusion restriction to be used is $z_{i}=$ `logmiles_fiwo`, which\n",
    "is the log of (one plus) the miles between the address of the firm\n",
    "(rather, the centroid of the zip code of the firm) and the site of the\n",
    "project under procurement. The remaining variables are described below:"
   ]
  },
  {
   "cell_type": "markdown",
   "metadata": {},
   "source": [
    "| **Variable** | **Description** |\n",
    "| ---- | ---- |\n",
    "| backlog_lagged  | a measure of the number of projects currently in progress at the firm. \t|\n",
    "| logcapital | log of the total capital (accounting variable).\t|\n",
    "| labor | measure of employed labor.\t|\n",
    "| count_linktot_out  | A measure of closeness to other firms.\t|\n",
    "| auction_type | =0 if the auction is an Average Bid Auction,\t|\n",
    "|\t\t\t\t|=1 for First Price Sealed Bid.\t|\n",
    "| participated  | whether the firm submitted a bid (yi1).\t|\n",
    "| logmiles_fiwo | distance from the firm to the location of the project under auction.\t|\n",
    "| firm_type_unlim_liab  | Firm is not limited liability.\t|\n",
    "| auction_id | ID variable for the auction.\t|\n",
    "| region | Dummy for the region in which the project is to take place. \t|\n",
    "| year | Calendar year.\t|"
   ]
  },
  {
   "cell_type": "markdown",
   "metadata": {
    "tags": []
   },
   "source": [
    "# The Heckman 2-step\n",
    "\n",
    "Suppose our dataset consists of $N$ observations of\n",
    "$\\{x_{i1},y_{i1}\\}_{i=1}^{N}$, where $y_{i1}\\in\\{0,1\\}$ denotes\n",
    "\"selection,\" and $x_{i1}\\in\\mathbb{R}^{K_{1}}$. For the \"selected\n",
    "sample\", $\\mathcal{S}=\\{i|y_{i1}=1\\}$, we furthermore observe data\n",
    "$\\{x_{i2},y_{i2}\\}_{i\\in\\mathcal{S}}$, where $y_{i2}\\in\\mathbb{R}$ and\n",
    "$x_{i2}\\in\\mathbb{R}^{K_{2}}$. Note that we also observe $x_{i1}$ for\n",
    "the selected sample. The model then is\n",
    "\n",
    "We assume the following model, \n",
    "\n",
    "$$\n",
    "\\begin{aligned}\n",
    "y_{i1} & = \\mathbf{1}\\{x_{i1}'\\beta_{1}+\\varepsilon_{i1}\\},\\quad\\varepsilon|x_{i1}\\sim\\mathcal{N}(0,1), & (1) \\\\\n",
    "y_{i2} & = x_{i2}'\\beta_{2}+\\varepsilon_{i2},\\quad\\text{E}(\\varepsilon_{i2}|\\varepsilon_{i1})=\\gamma\\varepsilon_{i1}. & (2)\n",
    "\\end{aligned}\n",
    "$$\n",
    "\n",
    "The Heckman sample selection model has two steps:\n",
    "\n",
    "**Step 1 (Selection equation):** Estimate $\\hat{\\beta}_{1}$ by running a Probit\n",
    "    regression of $y_{i1}$ on $x_{i1}$ using the full sample,\n",
    "    $i\\in\\{1,...,N\\}$. Compute\n",
    "    $\\hat{\\lambda}_{i}\\equiv\\frac{\\phi(x_{i1}'\\hat{\\beta}_{1})}{\\Phi(x_{i1}'\\hat{\\beta}_{1})}$,\n",
    "    where $\\phi$ and $\\Phi$ are the pdf and cdf of the standard normal\n",
    "    distribution, respectively.\n",
    "\n",
    "**Step 2 (Outcome equation):** Run a linear regression of $y_{i2}$ on $x_{i2}$ and\n",
    "    $\\hat{\\lambda}_{i}$, obtaining estimate $\\hat{\\beta}_{2}$ and\n",
    "    $\\hat{\\gamma}$ respectively.\n",
    "\n",
    "We refer to any variables, $z_{i}$, in $x_{i2}$ that are not in $x_{i1}$\n",
    "as *exclusion restrictions*. These are variables that satisfy the\n",
    "following:\n",
    "\n",
    "**Assumption 1 (Exclusion):** $z_{i}$ affects selection ($y_{i1}$) but not the outcome ($y_{i2}$),\n",
    "\n",
    "**Assumption 2 (Relevance):** $z_{i}$ is a strong predictor of selection, i.e. it's coefficient in $\\beta_{2}$ is statistically significant."
   ]
  },
  {
   "cell_type": "code",
   "execution_count": 2,
   "metadata": {},
   "outputs": [],
   "source": [
    "# Since we are doing some more advanced data choices, we start by using pandas.\n",
    "# This makes the whole process easier.\n",
    "data = pd.read_csv('conley_decariolis.csv', sep=',')\n",
    "data['t'] = data['year'] - min(data['year'])"
   ]
  },
  {
   "cell_type": "code",
   "execution_count": 3,
   "metadata": {},
   "outputs": [],
   "source": [
    "# Create labels for variables\n",
    "ylbl = 'participated'\n",
    "exclusion_restriction = 'logmiles_fiwo'\n",
    "xlbl = ['backlog_lagged',  'logcapital', 'count_linktot_in', 'labor', 'firm_type_unlim_liab', 't']\n",
    "\n",
    "# We want to check for missings and remove them, but only for variables that we are interested in.\n",
    "# We therefore gather all the labels into one \"check_missing\" label.\n",
    "check_missing = xlbl.copy()\n",
    "check_missing.append(ylbl)\n",
    "check_missing.append(exclusion_restriction)"
   ]
  },
  {
   "cell_type": "code",
   "execution_count": 4,
   "metadata": {},
   "outputs": [],
   "source": [
    "# Keep only auctions that are of type \"average bid\", which is the 0 category.\n",
    "data = data[data['auction_type'] == 0.0]\n",
    "\n",
    "# Remove missings only present in the variables denoted by check_missing labels.\n",
    "data.dropna(inplace=True, subset=check_missing)"
   ]
  },
  {
   "cell_type": "code",
   "execution_count": 5,
   "metadata": {},
   "outputs": [],
   "source": [
    "# Allocate data to their own variables.\n",
    "# y1 is whether a firm participated in the auction or not.\n",
    "y1 = data[ylbl].to_numpy().reshape(-1, 1)\n",
    "\n",
    "# Exclusion restriction is distance from company to job.\n",
    "z = data[exclusion_restriction].to_numpy().reshape(-1, 1)\n",
    "\n",
    "x = data[xlbl].to_numpy()\n",
    "cnst = np.ones(y1.size).reshape(-1, 1)\n",
    "x = np.hstack((x, cnst))\n",
    "\n",
    "# x1 (and y1) is to be used with equation (1).\n",
    "x1 = np.hstack((z, x))\n",
    "\n",
    "# y2 denotes how high a bid was.\n",
    "# We keep in x2 only those who bid on the acution (as one participate in a bid, y1==1, but refrain from bidding, y2==nan).\n",
    "# x2 and y2 is to be used with equation (2).\n",
    "y2 = data['bid_discount'][data['participated'] == 1].to_numpy().reshape(-1, 1)\n",
    "x2 = x[data['participated'] == 1]\n",
    "\n",
    "# Add constant label to x\n",
    "xlbl.append('const')\n",
    "# add exclusion restriction label x1\n",
    "x1lbl=xlbl.copy()\n",
    "x1lbl.append(exclusion_restriction)"
   ]
  },
  {
   "cell_type": "markdown",
   "metadata": {},
   "source": [
    "### Question 1:\n",
    "Estimate the outcome equation (2) (using OLS and variables x2 and y2), without controlling for selection into the sample (since we have not calculated the inverse mills ratio yet). Print it out in a nice table, and focus on the effect of `count_linktot_in` as a proxy for the closeness of firm relationships. Does "
   ]
  },
  {
   "cell_type": "code",
   "execution_count": 6,
   "metadata": {},
   "outputs": [
    {
     "name": "stdout",
     "output_type": "stream",
     "text": [
      "Outcome w/o controlling for selection.\n",
      "Dependent variable: Bid discount\n",
      "\n",
      "                         Beta      Se    t-values\n",
      "--------------------  -------  ------  ----------\n",
      "backlog_lagged        -0.0484  0.1756     -0.2755\n",
      "logcapital            -0.1399  0.0212     -6.6077\n",
      "count_linktot_in       0.0132  0.0018      7.2640\n",
      "labor                  0.0041  0.0009      4.7850\n",
      "firm_type_unlim_liab  -1.0389  0.1173     -8.8547\n",
      "t                      0.6685  0.0425     15.7440\n",
      "const                 12.7181  0.0725    175.3357\n",
      "R² = 0.010\n",
      "σ² = 27.444\n"
     ]
    }
   ],
   "source": [
    "# Finally estimate the model and print data.\n",
    "ols_result = lm.estimate(y2, x2)\n",
    "lm.print_table(\n",
    "    ('Bid discount', xlbl), \n",
    "    ols_result, \n",
    "    title=\"Outcome w/o controlling for selection.\", \n",
    "    floatfmt='.4f'\n",
    ")"
   ]
  },
  {
   "cell_type": "markdown",
   "metadata": {},
   "source": [
    "## Question 2: \n",
    "Replicate the histogram above, showing that there might be a selection bias. You do this by using the `Data` frame, and plot the histograms of `logmiles_fiwo` both for `participated == 0` and `participated == 1`. See if you are able to plot both histograms in the same plot, with a transparent overlap."
   ]
  },
  {
   "cell_type": "code",
   "execution_count": 7,
   "metadata": {},
   "outputs": [
    {
     "data": {
      "image/png": "[encoded data removed]",
      "text/plain": [
       "<Figure size 432x288 with 1 Axes>"
      ]
     },
     "metadata": {
      "needs_background": "light"
     },
     "output_type": "display_data"
    }
   ],
   "source": [
    "# Plot histograms\n",
    "fig = plt.figure()\n",
    "ax = fig.add_subplot(1, 1, 1)\n",
    "ax.hist(data['logmiles_fiwo'][data['participated'] == 1], bins=100, alpha=0.5, density=True)\n",
    "ax.hist(data['logmiles_fiwo'][data['participated'] == 0], bins=100, alpha=0.5, density=True) \n",
    "ax.legend(['Auction participants', 'Non - participants'])\n",
    "ax.set_xlabel('Distance miles (log)')\n",
    "ax.set_ylabel('Density') ;"
   ]
  },
  {
   "cell_type": "markdown",
   "metadata": {},
   "source": [
    "## Question 3\n",
    "Compute the Heckit 2-step estimator using `logmiles_fiwo` as the exclusion restriction.\n",
    "\n",
    "1. First estimate eq. (1) using y1 and x1.\n",
    "2. Use the results from the first step estimation to calculate the inverse Mills ratio (which should be a $n \\times 1$ vector). In order to use this in the second step estimation, you need to keep only the rows from the inverse Mills ratio that participate in an auction (this can be done using y1 in boolean indexing).\n",
    "3. Include the inverse Mills ratio in x2 (if you include it as the first column, x2 will work with the rest of the code).\n",
    "4. Re-estimate eq. (2) using y2 and the new x2. Is the inverse Mills ratio significant? What about `count_linktot_in`, has this become insignificant when controlling for selection bias?"
   ]
  },
  {
   "cell_type": "code",
   "execution_count": 8,
   "metadata": {},
   "outputs": [
    {
     "name": "stdout",
     "output_type": "stream",
     "text": [
      "Optimization terminated successfully.\n",
      "         Current function value: 0.513605\n",
      "         Iterations: 34\n",
      "         Function evaluations: 342\n",
      "         Gradient evaluations: 38\n",
      "Optimizer succeded after 34 iter. (342 func. evals.). Final criterion:   0.5136.\n",
      "First step results\n"
     ]
    },
    {
     "data": {
      "text/html": [
       "<div>\n",
       "<style scoped>\n",
       "    .dataframe tbody tr th:only-of-type {\n",
       "        vertical-align: middle;\n",
       "    }\n",
       "\n",
       "    .dataframe tbody tr th {\n",
       "        vertical-align: top;\n",
       "    }\n",
       "\n",
       "    .dataframe thead th {\n",
       "        text-align: right;\n",
       "    }\n",
       "</style>\n",
       "<table border=\"1\" class=\"dataframe\">\n",
       "  <thead>\n",
       "    <tr style=\"text-align: right;\">\n",
       "      <th></th>\n",
       "      <th>theta</th>\n",
       "      <th>se</th>\n",
       "      <th>t</th>\n",
       "    </tr>\n",
       "  </thead>\n",
       "  <tbody>\n",
       "    <tr>\n",
       "      <th>backlog_lagged</th>\n",
       "      <td>-0.1242</td>\n",
       "      <td>0.0050</td>\n",
       "      <td>-24.7226</td>\n",
       "    </tr>\n",
       "    <tr>\n",
       "      <th>logcapital</th>\n",
       "      <td>0.0548</td>\n",
       "      <td>0.0436</td>\n",
       "      <td>1.2558</td>\n",
       "    </tr>\n",
       "    <tr>\n",
       "      <th>count_linktot_in</th>\n",
       "      <td>0.0520</td>\n",
       "      <td>0.0035</td>\n",
       "      <td>14.7093</td>\n",
       "    </tr>\n",
       "    <tr>\n",
       "      <th>labor</th>\n",
       "      <td>0.0689</td>\n",
       "      <td>0.0004</td>\n",
       "      <td>170.9495</td>\n",
       "    </tr>\n",
       "    <tr>\n",
       "      <th>firm_type_unlim_liab</th>\n",
       "      <td>-0.0009</td>\n",
       "      <td>0.0001</td>\n",
       "      <td>-6.5566</td>\n",
       "    </tr>\n",
       "    <tr>\n",
       "      <th>t</th>\n",
       "      <td>0.0993</td>\n",
       "      <td>0.0210</td>\n",
       "      <td>4.7407</td>\n",
       "    </tr>\n",
       "    <tr>\n",
       "      <th>const</th>\n",
       "      <td>0.0167</td>\n",
       "      <td>0.0083</td>\n",
       "      <td>1.9999</td>\n",
       "    </tr>\n",
       "    <tr>\n",
       "      <th>logmiles_fiwo</th>\n",
       "      <td>-0.3488</td>\n",
       "      <td>0.0268</td>\n",
       "      <td>-13.0210</td>\n",
       "    </tr>\n",
       "  </tbody>\n",
       "</table>\n",
       "</div>"
      ],
      "text/plain": [
       "                       theta      se         t\n",
       "backlog_lagged       -0.1242  0.0050  -24.7226\n",
       "logcapital            0.0548  0.0436    1.2558\n",
       "count_linktot_in      0.0520  0.0035   14.7093\n",
       "labor                 0.0689  0.0004  170.9495\n",
       "firm_type_unlim_liab -0.0009  0.0001   -6.5566\n",
       "t                     0.0993  0.0210    4.7407\n",
       "const                 0.0167  0.0083    1.9999\n",
       "logmiles_fiwo        -0.3488  0.0268  -13.0210"
      ]
     },
     "execution_count": 8,
     "metadata": {},
     "output_type": "execute_result"
    }
   ],
   "source": [
    "first_step = est.estimate(\n",
    "    ssm.q, ssm.starting_values(y1, x1), y1, x1\n",
    ")\n",
    "est.print_table(x1lbl, first_step, title='First step results')"
   ]
  },
  {
   "cell_type": "code",
   "execution_count": 9,
   "metadata": {},
   "outputs": [],
   "source": [
    "# Mills ratio\n",
    "xb = x1@first_step['theta']\n",
    "_lambda = norm.pdf(xb)/norm.cdf(xb)\n",
    "\n",
    "# Keep only for those we observe participated\n",
    "_lambda = _lambda[y1.flatten() == 1]"
   ]
  },
  {
   "cell_type": "code",
   "execution_count": 10,
   "metadata": {},
   "outputs": [],
   "source": [
    "x2 = np.hstack((_lambda.reshape(-1, 1), x2))"
   ]
  },
  {
   "cell_type": "code",
   "execution_count": 11,
   "metadata": {},
   "outputs": [],
   "source": [
    "# We also have to update label\n",
    "xlbl.insert(0, 'Mills Ratio')"
   ]
  },
  {
   "cell_type": "code",
   "execution_count": 12,
   "metadata": {},
   "outputs": [
    {
     "name": "stdout",
     "output_type": "stream",
     "text": [
      "Outcome controlling for selection\n",
      "Dependent variable: participated\n",
      "\n",
      "                         Beta      Se    t-values\n",
      "--------------------  -------  ------  ----------\n",
      "Mills Ratio            4.0299  0.1526     26.4059\n",
      "backlog_lagged         0.0992  0.1763      0.5625\n",
      "logcapital            -0.0019  0.0215     -0.0871\n",
      "count_linktot_in       0.1399  0.0049     28.7297\n",
      "labor                  0.0016  0.0009      1.8663\n",
      "firm_type_unlim_liab  -0.8248  0.1152     -7.1610\n",
      "t                      0.6832  0.0420     16.2735\n",
      "const                  7.6211  0.2039     37.3759\n",
      "R² = 0.026\n",
      "σ² = 27.007\n"
     ]
    }
   ],
   "source": [
    "# Second step\n",
    "second_step = lm.estimate(y2, x2)\n",
    "lm.print_table(\n",
    "    (ylbl, xlbl), second_step, \n",
    "    title=\"Outcome controlling for selection\", floatfmt='.4f'\n",
    ")"
   ]
  },
  {
   "cell_type": "markdown",
   "metadata": {},
   "source": [
    "## Comparing results:"
   ]
  },
  {
   "cell_type": "code",
   "execution_count": 13,
   "metadata": {},
   "outputs": [
    {
     "data": {
      "text/html": [
       "<div>\n",
       "<style scoped>\n",
       "    .dataframe tbody tr th:only-of-type {\n",
       "        vertical-align: middle;\n",
       "    }\n",
       "\n",
       "    .dataframe tbody tr th {\n",
       "        vertical-align: top;\n",
       "    }\n",
       "\n",
       "    .dataframe thead th {\n",
       "        text-align: right;\n",
       "    }\n",
       "</style>\n",
       "<table border=\"1\" class=\"dataframe\">\n",
       "  <thead>\n",
       "    <tr style=\"text-align: right;\">\n",
       "      <th></th>\n",
       "      <th>beta w. sel.</th>\n",
       "      <th>beta w/o. sel.</th>\n",
       "      <th>t-values w. sel</th>\n",
       "      <th>t-values w/o. sel</th>\n",
       "    </tr>\n",
       "  </thead>\n",
       "  <tbody>\n",
       "    <tr>\n",
       "      <th>Mills Ratio</th>\n",
       "      <td>4.029877</td>\n",
       "      <td>None</td>\n",
       "      <td>26.405941</td>\n",
       "      <td>None</td>\n",
       "    </tr>\n",
       "    <tr>\n",
       "      <th>backlog_lagged</th>\n",
       "      <td>0.099158</td>\n",
       "      <td>-0.048371</td>\n",
       "      <td>0.562500</td>\n",
       "      <td>-0.275452</td>\n",
       "    </tr>\n",
       "    <tr>\n",
       "      <th>logcapital</th>\n",
       "      <td>-0.001875</td>\n",
       "      <td>-0.139889</td>\n",
       "      <td>-0.087067</td>\n",
       "      <td>-6.607749</td>\n",
       "    </tr>\n",
       "    <tr>\n",
       "      <th>count_linktot_in</th>\n",
       "      <td>0.139882</td>\n",
       "      <td>0.013238</td>\n",
       "      <td>28.729693</td>\n",
       "      <td>7.263993</td>\n",
       "    </tr>\n",
       "    <tr>\n",
       "      <th>labor</th>\n",
       "      <td>0.001592</td>\n",
       "      <td>0.004093</td>\n",
       "      <td>1.866348</td>\n",
       "      <td>4.78504</td>\n",
       "    </tr>\n",
       "    <tr>\n",
       "      <th>firm_type_unlim_liab</th>\n",
       "      <td>-0.824802</td>\n",
       "      <td>-1.038934</td>\n",
       "      <td>-7.161040</td>\n",
       "      <td>-8.854658</td>\n",
       "    </tr>\n",
       "    <tr>\n",
       "      <th>t</th>\n",
       "      <td>0.683213</td>\n",
       "      <td>0.66852</td>\n",
       "      <td>16.273483</td>\n",
       "      <td>15.744012</td>\n",
       "    </tr>\n",
       "    <tr>\n",
       "      <th>const</th>\n",
       "      <td>7.621122</td>\n",
       "      <td>12.718103</td>\n",
       "      <td>37.375889</td>\n",
       "      <td>175.335711</td>\n",
       "    </tr>\n",
       "  </tbody>\n",
       "</table>\n",
       "</div>"
      ],
      "text/plain": [
       "                      beta w. sel. beta w/o. sel.  t-values w. sel  \\\n",
       "Mills Ratio               4.029877           None        26.405941   \n",
       "backlog_lagged            0.099158      -0.048371         0.562500   \n",
       "logcapital               -0.001875      -0.139889        -0.087067   \n",
       "count_linktot_in          0.139882       0.013238        28.729693   \n",
       "labor                     0.001592       0.004093         1.866348   \n",
       "firm_type_unlim_liab     -0.824802      -1.038934        -7.161040   \n",
       "t                         0.683213        0.66852        16.273483   \n",
       "const                     7.621122      12.718103        37.375889   \n",
       "\n",
       "                     t-values w/o. sel  \n",
       "Mills Ratio                       None  \n",
       "backlog_lagged               -0.275452  \n",
       "logcapital                   -6.607749  \n",
       "count_linktot_in              7.263993  \n",
       "labor                          4.78504  \n",
       "firm_type_unlim_liab         -8.854658  \n",
       "t                            15.744012  \n",
       "const                       175.335711  "
      ]
     },
     "execution_count": 13,
     "metadata": {},
     "output_type": "execute_result"
    }
   ],
   "source": [
    "data = {\"beta w. sel.\": second_step.get('b_hat').flatten(), \n",
    "        \"beta w/o. sel.\": np.append(None,ols_result.get('b_hat').flatten()), # Appending a None element to account for the Mills Ratio\n",
    "        \"t-values w. sel\":  second_step.get('t_values').flatten(),\n",
    "        \"t-values w/o. sel\": np.append(None,ols_result.get('t_values').flatten()) # Appending a None element to account for the Mills Ratio\n",
    "       }\n",
    "pd.DataFrame(data=data, index = xlbl)"
   ]
  }
 ],
 "metadata": {
  "kernelspec": {
   "display_name": "Python 3 (ipykernel)",
   "language": "python",
   "name": "python3"
  },
  "language_info": {
   "codemirror_mode": {
    "name": "ipython",
    "version": 3
   },
   "file_extension": ".py",
   "mimetype": "text/x-python",
   "name": "python",
   "nbconvert_exporter": "python",
   "pygments_lexer": "ipython3",
   "version": "3.9.12"
  }
 },
 "nbformat": 4,
 "nbformat_minor": 4
}
