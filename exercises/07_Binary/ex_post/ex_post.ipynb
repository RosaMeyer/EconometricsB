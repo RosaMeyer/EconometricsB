{
 "cells": [
  {
   "cell_type": "markdown",
   "metadata": {},
   "source": [
    "# Non-linear models: Binary Response\n",
    "\n",
    "This week's problem set deals with settings where the outcome can take only two values, $y_i \\in \\{0,1\\}$. "
   ]
  },
  {
   "cell_type": "markdown",
   "metadata": {},
   "source": [
    "## Theory\n",
    "\n",
    "The binary response model assumes that the data generating process is \n",
    "$$\n",
    "\\begin{aligned}\n",
    "y_i^* &= \\mathbf{x}_i \\boldsymbol{\\beta} + u_i, \\\\ \n",
    "y_i   &= \\mathbf{1}(y_i^* > 0), \n",
    "\\end{aligned}\n",
    "$$\n",
    "where $u_i$ are distributed IID according to some cdf. $G$. \n",
    "\n",
    "In the lectures, we show that \n",
    "$$ p_i \\equiv \\Pr(y_i = 1| \\mathbf{x}_i) = G(\\mathbf{x}_i \\boldsymbol{\\beta}). $$ \n",
    "\n",
    "Since $y_i$ (conditioning on $\\mathbf{x}_i$) is Bernoulli-distributed with parameter $p_i$, its log-likelihood function is \n",
    "$$\n",
    "\\ell_i(\\theta) \n",
    "               = \\mathrm{1}(y_i = 1) \\log[ G(\\mathbf{x}_i \\boldsymbol{\\beta}) ]\n",
    "               + \\mathrm{1}(y_i = 0) \\log[1 - G(\\mathbf{x}_i \\boldsymbol{\\beta})]\n",
    "$$\n",
    "\n",
    "Estimation is then conducted by maximum likelihood, \n",
    "$$ \\hat{\\boldsymbol{\\theta}} = \\arg\\max_\\theta \\frac{1}{N} \\sum_{i=1}^N \\ell_i (\\theta), $$ \n",
    "which can be implemented as a minimizer in the usual $M$-framework with $q(\\theta, y_i, x_i) = -\\ell_i(\\theta)$, and then minimizing $Q(\\theta) = N^{-1} \\sum_i q(\\theta, y_i, x_i)$. \n",
    "\n",
    "We will consider two models in this problem set: \n",
    "1. Probit: when $G$ is the standard normal CDF (question 2) \n",
    "2. Logit: when $G$ is the standard logistic CDF (question 4). \n",
    "\n",
    "And we will be comparing them to OLS (which we call the Linear Probability Model, LPM, when $y_i$ is binary). "
   ]
  },
  {
   "cell_type": "markdown",
   "metadata": {},
   "source": [
    "## Setup "
   ]
  },
  {
   "cell_type": "code",
   "execution_count": 62,
   "metadata": {},
   "outputs": [
    {
     "name": "stdout",
     "output_type": "stream",
     "text": [
      "The autoreload extension is already loaded. To reload it, use:\n",
      "  %reload_ext autoreload\n"
     ]
    }
   ],
   "source": [
    "# We will import the LinearModels module\n",
    "# But first we need to make sure that we look for modules one folder up.\n",
    "from sys import path\n",
    "\n",
    "import numpy as np\n",
    "import pandas as pd \n",
    "from scipy.stats import norm\n",
    "import matplotlib.pyplot as plt \n",
    "import seaborn as sns \n",
    "sns.set_theme()\n",
    "\n",
    "%load_ext autoreload\n",
    "%autoreload 2\n",
    "\n",
    "# user-written \n",
    "import estimation as est \n",
    "import LinearModel as lm\n",
    "import probit\n",
    "import logit"
   ]
  },
  {
   "cell_type": "markdown",
   "metadata": {},
   "source": [
    "# Labor participation of married women\n",
    "\n",
    "The goal of this week's problem set is to investigate the labor participation of \n",
    "married women, using three different types of binary response models.\n",
    "Binary response models are relevant when the dependent variable $y$ has two possible outcomes, \n",
    "e.g., $y=1$ if a person participates in the labor force, and $y=0$ if she does not.\n",
    "The three models that you are asked to estimate are the Linear Probability Model (LPM), \n",
    "the Probit model and the Logit model. \n",
    "\n",
    "_Note:_ This week, most of the code has been created for you - you just need to fill in some blanks in the module `NonLinearModel.py`. To estimate the LPM-model using OLS, we will use the code that we have already used in the course, which is in the `LinearModels.py` file, and is preloaded as `lm`."
   ]
  },
  {
   "cell_type": "markdown",
   "metadata": {},
   "source": [
    "## Data\n",
    "\n",
    "To conduct your analysis, you will use data coming from the following article, and reproduce\n",
    "some of its results: \n",
    "\n",
    "> Michael Gerfin (1996): \"Parametric and Semi-Parametric Estimation of the Binary Response Model of Labour Market Participation\", _Journal of Applied Econometrics_ , Vol. 11, Issue 3, pp. 321-339, [DOI link](https://doi.org/10.1002/(SICI)1099-1255(199605)11:3%3C321::AID-JAE391%3E3.0.CO;2-K)\n",
    "\n",
    "This article compares parametric and semiparametric methods for the estimation of binary choice\n",
    "models, using two different data sets for Swiss and German women. In this assignment, you will\n",
    "only work with the Swiss data, and implement parametric methods - we will discuss semiparametric \n",
    "methods in a later lecture. \n",
    "\n",
    "The data set $\\texttt{swiss.txt}$ contains information about 872 women, of which 401\n",
    "participate in the labor market (The data set was obtained from the Journal of Applied Econometrics Data Archive\n",
    "at http://qed.econ.queensu.ca/jae/1996-v11.3/gerfin/.\n",
    "\n",
    "\n",
    "The variables are defined in the table below (see, also, section 3 page 326 of the article).\n",
    "\n",
    "|Var | Definition |\n",
    "|--|--|\n",
    "| `LFP`     |  = 1 if in labor force, 0 otherwise | \n",
    "| `AGE`     |  age in years (divided by 10) | \n",
    "| `EDUC`    |  number of years of formal education | \n",
    "| `NYC`     |  number of young children | \n",
    "| `NOC`     |  number of older children | \n",
    "| `NLINC`   |  logarithm of yearly non-labor income | \n",
    "| `FOREIGN` |  = 1 if permanent foreign resident, 0 otherwise |\n",
    "\n"
   ]
  },
  {
   "cell_type": "markdown",
   "metadata": {},
   "source": [
    "### The following cells load the data for you."
   ]
  },
  {
   "cell_type": "code",
   "execution_count": 63,
   "metadata": {},
   "outputs": [],
   "source": [
    "# Declare labels\n",
    "y_lab = 'lfp'\n",
    "rawdat_columns = ['lfp', 'nlinc', 'age', 'educ', 'nyc', 'noc', 'foreign'] # contents of raw file \n",
    "x_lab = ['const', 'age', 'agesq', 'educ', 'nyc', 'noc', 'nlinc', 'foreign'] # goal for our dataset "
   ]
  },
  {
   "cell_type": "code",
   "execution_count": 64,
   "metadata": {},
   "outputs": [],
   "source": [
    "dat = pd.read_fwf('swiss.txt', names = rawdat_columns)\n",
    "\n",
    "N = dat.shape[0]\n",
    "\n",
    "# create extra variables \n",
    "dat['agesq'] = dat.age * dat.age \n",
    "dat['const'] = np.ones((N,))\n",
    "\n",
    "# reorder columns \n",
    "dat = dat[[y_lab] + x_lab].copy()\n",
    "\n",
    "dat.head(5)\n",
    "\n",
    "assert dat.notnull().all(axis=1).all(), 'Missings in the dataset, take them out!'"
   ]
  },
  {
   "cell_type": "code",
   "execution_count": 65,
   "metadata": {},
   "outputs": [],
   "source": [
    "y = dat.lfp.values # .reshape(N,1)\n",
    "x = dat[x_lab].values\n",
    "K = x.shape[1]"
   ]
  },
  {
   "cell_type": "markdown",
   "metadata": {},
   "source": [
    "# Question 1: Estimate model using LPM\n",
    "We model Labour participation of females using an LPM model, which we estimate using OLS. Use the given `lm` module, and print it out in a nice table. Remember to use heteroscedasticity-robust standard errors. "
   ]
  },
  {
   "cell_type": "code",
   "execution_count": 66,
   "metadata": {},
   "outputs": [
    {
     "name": "stdout",
     "output_type": "stream",
     "text": [
      "LPM results\n",
      "Dependent variable: lfp\n",
      "\n",
      "R2 = 0.193\n",
      "sigma2 = nan\n"
     ]
    },
    {
     "data": {
      "text/html": [
       "<div>\n",
       "<style scoped>\n",
       "    .dataframe tbody tr th:only-of-type {\n",
       "        vertical-align: middle;\n",
       "    }\n",
       "\n",
       "    .dataframe tbody tr th {\n",
       "        vertical-align: top;\n",
       "    }\n",
       "\n",
       "    .dataframe thead th {\n",
       "        text-align: right;\n",
       "    }\n",
       "</style>\n",
       "<table border=\"1\" class=\"dataframe\">\n",
       "  <thead>\n",
       "    <tr style=\"text-align: right;\">\n",
       "      <th></th>\n",
       "      <th>b_hat</th>\n",
       "      <th>se</th>\n",
       "      <th>t</th>\n",
       "    </tr>\n",
       "  </thead>\n",
       "  <tbody>\n",
       "    <tr>\n",
       "      <th>const</th>\n",
       "      <td>1.6637</td>\n",
       "      <td>0.3973</td>\n",
       "      <td>4.1880</td>\n",
       "    </tr>\n",
       "    <tr>\n",
       "      <th>age</th>\n",
       "      <td>0.6825</td>\n",
       "      <td>0.1200</td>\n",
       "      <td>5.6891</td>\n",
       "    </tr>\n",
       "    <tr>\n",
       "      <th>agesq</th>\n",
       "      <td>-0.0970</td>\n",
       "      <td>0.0145</td>\n",
       "      <td>-6.6821</td>\n",
       "    </tr>\n",
       "    <tr>\n",
       "      <th>educ</th>\n",
       "      <td>0.0067</td>\n",
       "      <td>0.0058</td>\n",
       "      <td>1.1502</td>\n",
       "    </tr>\n",
       "    <tr>\n",
       "      <th>nyc</th>\n",
       "      <td>-0.2406</td>\n",
       "      <td>0.0301</td>\n",
       "      <td>-8.0031</td>\n",
       "    </tr>\n",
       "    <tr>\n",
       "      <th>noc</th>\n",
       "      <td>-0.0493</td>\n",
       "      <td>0.0174</td>\n",
       "      <td>-2.8291</td>\n",
       "    </tr>\n",
       "    <tr>\n",
       "      <th>nlinc</th>\n",
       "      <td>-0.2128</td>\n",
       "      <td>0.0355</td>\n",
       "      <td>-5.9892</td>\n",
       "    </tr>\n",
       "    <tr>\n",
       "      <th>foreign</th>\n",
       "      <td>0.2496</td>\n",
       "      <td>0.0402</td>\n",
       "      <td>6.2134</td>\n",
       "    </tr>\n",
       "  </tbody>\n",
       "</table>\n",
       "</div>"
      ],
      "text/plain": [
       "          b_hat      se       t\n",
       "const    1.6637  0.3973  4.1880\n",
       "age      0.6825  0.1200  5.6891\n",
       "agesq   -0.0970  0.0145 -6.6821\n",
       "educ     0.0067  0.0058  1.1502\n",
       "nyc     -0.2406  0.0301 -8.0031\n",
       "noc     -0.0493  0.0174 -2.8291\n",
       "nlinc   -0.2128  0.0355 -5.9892\n",
       "foreign  0.2496  0.0402  6.2134"
      ]
     },
     "execution_count": 66,
     "metadata": {},
     "output_type": "execute_result"
    }
   ],
   "source": [
    "ols_results = lm.estimate(y, x, robust_se=True)\n",
    "ols_tab = lm.print_table((y_lab, x_lab), ols_results, title='LPM results')\n",
    "ols_tab"
   ]
  },
  {
   "cell_type": "markdown",
   "metadata": {},
   "source": [
    "You should get something close to this: \n",
    "\n",
    "|         |   b_hat |     se |   t        |\n",
    "|:--------|--------:|-------:|-----------:|\n",
    "| const   |  1.6637 | 0.3973 |     4.188  |\n",
    "| age     |  0.6825 | 0.12   |     5.6891 |\n",
    "| agesq   | -0.097  | 0.0145 |    -6.6821 |\n",
    "| educ    |  0.0067 | 0.0058 |     1.1502 |\n",
    "| nyc     | -0.2406 | 0.0301 |    -8.0031 |\n",
    "| noc     | -0.0493 | 0.0174 |    -2.8291 |\n",
    "| nlinc   | -0.2128 | 0.0355 |    -5.9892 |\n",
    "| foreign |  0.2496 | 0.0402 |     6.2134 |\n"
   ]
  },
  {
   "cell_type": "markdown",
   "metadata": {},
   "source": [
    "# Question 2: Probit\n",
    "\n",
    "The Probit model has the link function \n",
    "$$G^{\\text{probit}}(\\mathbf{x}_i \\boldsymbol{\\beta}) \n",
    "    =\\Phi(\\mathbf{x}_i \\boldsymbol{\\beta})\n",
    "    \\equiv \\int_{-\\infty}^{\\mathbf{x}_i \\boldsymbol{\\beta}}\\phi\\left(z\\right) \\, \\mathrm{d} z$$\n",
    "\n",
    "$\\phi\\left(z\\right)= (2 \\pi)^{-\\frac12}\\exp(\\frac{-z^{2}}{2})$ is the standard normal pdf. As starting values, we can use OLS estimates: $\\boldsymbol{\\theta} = \\hat{\\boldsymbol{\\beta}}^{OLS}$. *(Or even better, $2.5\\hat{\\boldsymbol{\\beta}}^{OLS}$, as will become clear later.) \n",
    "\n",
    "> Estimate the probit model, filling out the functions `G`, `loglikelihood`, `q`, and `starting_values`. \n",
    "\n",
    "***Hints:*** \n",
    "* $\\Phi(z)$ can be computed with `scipy.stats.norm.cdf(z)`.\n",
    "* Make sure to keep `theta` \"flat\", i.e. `theta.ndim == 1`. "
   ]
  },
  {
   "cell_type": "code",
   "execution_count": 67,
   "metadata": {},
   "outputs": [
    {
     "data": {
      "text/plain": [
       "array([ 4.15920822,  1.70634457, -0.24256487,  0.01664176, -0.60157582,\n",
       "       -0.12327269, -0.53210452,  0.62400311])"
      ]
     },
     "execution_count": 67,
     "metadata": {},
     "output_type": "execute_result"
    }
   ],
   "source": [
    "theta0 = probit.starting_values(y, x)\n",
    "theta0"
   ]
  },
  {
   "cell_type": "code",
   "execution_count": 68,
   "metadata": {},
   "outputs": [
    {
     "data": {
      "text/plain": [
       "True"
      ]
     },
     "execution_count": 68,
     "metadata": {},
     "output_type": "execute_result"
    }
   ],
   "source": [
    "ll = probit.loglikelihood(theta0, y, x)\n",
    "np.isclose(np.mean(ll), -1.0411283428047824)"
   ]
  },
  {
   "cell_type": "code",
   "execution_count": 69,
   "metadata": {
    "tags": []
   },
   "outputs": [
    {
     "name": "stdout",
     "output_type": "stream",
     "text": [
      "Optimization terminated successfully.\n",
      "         Current function value: 0.583231\n",
      "         Iterations: 36\n",
      "         Function evaluations: 369\n",
      "         Gradient evaluations: 41\n"
     ]
    }
   ],
   "source": [
    "probit_results = est.estimate(probit.q, theta0, y, x)"
   ]
  },
  {
   "cell_type": "code",
   "execution_count": 70,
   "metadata": {},
   "outputs": [
    {
     "name": "stdout",
     "output_type": "stream",
     "text": [
      "Optimizer succeded after 36 iter. (369 func. evals.). Final criterion:   0.5832.\n",
      "Probit, y = lfp\n"
     ]
    },
    {
     "data": {
      "text/html": [
       "<div>\n",
       "<style scoped>\n",
       "    .dataframe tbody tr th:only-of-type {\n",
       "        vertical-align: middle;\n",
       "    }\n",
       "\n",
       "    .dataframe tbody tr th {\n",
       "        vertical-align: top;\n",
       "    }\n",
       "\n",
       "    .dataframe thead th {\n",
       "        text-align: right;\n",
       "    }\n",
       "</style>\n",
       "<table border=\"1\" class=\"dataframe\">\n",
       "  <thead>\n",
       "    <tr style=\"text-align: right;\">\n",
       "      <th></th>\n",
       "      <th>theta</th>\n",
       "      <th>se</th>\n",
       "      <th>t</th>\n",
       "    </tr>\n",
       "  </thead>\n",
       "  <tbody>\n",
       "    <tr>\n",
       "      <th>const</th>\n",
       "      <td>3.7489</td>\n",
       "      <td>1.4948</td>\n",
       "      <td>2.5080</td>\n",
       "    </tr>\n",
       "    <tr>\n",
       "      <th>age</th>\n",
       "      <td>2.0754</td>\n",
       "      <td>0.4169</td>\n",
       "      <td>4.9784</td>\n",
       "    </tr>\n",
       "    <tr>\n",
       "      <th>agesq</th>\n",
       "      <td>-0.2944</td>\n",
       "      <td>0.0509</td>\n",
       "      <td>-5.7836</td>\n",
       "    </tr>\n",
       "    <tr>\n",
       "      <th>educ</th>\n",
       "      <td>0.0192</td>\n",
       "      <td>0.0181</td>\n",
       "      <td>1.0619</td>\n",
       "    </tr>\n",
       "    <tr>\n",
       "      <th>nyc</th>\n",
       "      <td>-0.7145</td>\n",
       "      <td>0.0963</td>\n",
       "      <td>-7.4170</td>\n",
       "    </tr>\n",
       "    <tr>\n",
       "      <th>noc</th>\n",
       "      <td>-0.1470</td>\n",
       "      <td>0.0503</td>\n",
       "      <td>-2.9222</td>\n",
       "    </tr>\n",
       "    <tr>\n",
       "      <th>nlinc</th>\n",
       "      <td>-0.6669</td>\n",
       "      <td>0.1372</td>\n",
       "      <td>-4.8607</td>\n",
       "    </tr>\n",
       "    <tr>\n",
       "      <th>foreign</th>\n",
       "      <td>0.7144</td>\n",
       "      <td>0.1207</td>\n",
       "      <td>5.9196</td>\n",
       "    </tr>\n",
       "  </tbody>\n",
       "</table>\n",
       "</div>"
      ],
      "text/plain": [
       "          theta      se       t\n",
       "const    3.7489  1.4948  2.5080\n",
       "age      2.0754  0.4169  4.9784\n",
       "agesq   -0.2944  0.0509 -5.7836\n",
       "educ     0.0192  0.0181  1.0619\n",
       "nyc     -0.7145  0.0963 -7.4170\n",
       "noc     -0.1470  0.0503 -2.9222\n",
       "nlinc   -0.6669  0.1372 -4.8607\n",
       "foreign  0.7144  0.1207  5.9196"
      ]
     },
     "execution_count": 70,
     "metadata": {},
     "output_type": "execute_result"
    }
   ],
   "source": [
    "probit_tab = est.print_table(x_lab, probit_results, title=f'Probit, y = {y_lab}')\n",
    "probit_tab"
   ]
  },
  {
   "cell_type": "code",
   "execution_count": 71,
   "metadata": {},
   "outputs": [
    {
     "data": {
      "text/plain": [
       "0.46066437498825963"
      ]
     },
     "execution_count": 71,
     "metadata": {},
     "output_type": "execute_result"
    }
   ],
   "source": [
    "# mean value of G(x*b): 0.46066\n",
    "probit.G(x @ probit_results['theta']).mean()"
   ]
  },
  {
   "cell_type": "markdown",
   "metadata": {},
   "source": [
    "Your table should look aprox. this:\n",
    "\n",
    "Optimizer succeded after 36 iter. (360 func. evals.). Final criterion:   0.5832.\n",
    "Probit, y = lfp\n",
    "\n",
    "|         |   theta |     se |       t |\n",
    "|:--------|--------:|-------:|--------:|\n",
    "| const   |  3.7491 | 1.4948 |  2.5081 |\n",
    "| age     |  2.0753 | 0.4169 |  4.9783 |\n",
    "| agesq   | -0.2943 | 0.0509 | -5.7835 |\n",
    "| educ    |  0.0192 | 0.0181 |  1.0619 |\n",
    "| nyc     | -0.7145 | 0.0963 | -7.417  |\n",
    "| noc     | -0.147  | 0.0503 | -2.9221 |\n",
    "| nlinc   | -0.667  | 0.1372 | -4.8608 |\n",
    "| foreign |  0.7144 | 0.1207 |  5.9197 |"
   ]
  },
  {
   "cell_type": "markdown",
   "metadata": {},
   "source": [
    "# Question 3: Compare estimates to Gerfin (1996)\n",
    "Compare your results to those published in Gerfin (1996, p. 327 Table I) for the Probit model, see the table below. Interpret and compare the results from the two estimation approaches, both from a statistical and an economic point of view.\n",
    "\n",
    "| Variable | $\\hat{\\beta}$ | s.e |\n",
    "|----|---|---|\n",
    "| `CONST`   |  3.75\t| (1.41)  |\n",
    "| `AGE`     |  2.08\t| (0.41)  |\n",
    "| `AGESQ`   |  -0.29| (0.05) | \n",
    "| `EDUC`    |  0.02\t| (0.02)  |\n",
    "| `NYC`     |  -0.71| (0.10) | \n",
    "| `NOC`     |  -0.15| (0.05) | \n",
    "| `NLINC`   |  -0.67| (0.13) | \n",
    "| `FOREIGN` |   0.71| (0.12)|"
   ]
  },
  {
   "cell_type": "markdown",
   "metadata": {},
   "source": [
    "# Question 4: Logit\n",
    "Estimate the logit model with maximum likelihood, using the same explanatory variables as in\n",
    "**Question 3**.\n",
    "\n",
    "## The Logit Model\n",
    "\n",
    "For the Logit model, the link function is \n",
    "\n",
    "$$G^{\\text{logit}}( \\mathbf{x}_i \\boldsymbol{\\beta} ) = \\Lambda(\\mathbf{x}_i \\boldsymbol{\\beta}) \\equiv  \\frac{\\exp(\\mathbf{x}_i \\boldsymbol{\\beta})}{1+\\exp(\\mathbf{x}_i \\boldsymbol{\\beta})} \\tag{2}$$\n",
    "\n",
    "> Estimate the logit model, filling out the functions `G`, `loglikelihood`, `q`, and `starting_values` in the file `logit.py` so that the code below runs and gives the correct answers. "
   ]
  },
  {
   "cell_type": "code",
   "execution_count": 72,
   "metadata": {},
   "outputs": [
    {
     "data": {
      "text/plain": [
       "array([ 6.65473316,  2.73015131, -0.38810379,  0.02662682, -0.96252132,\n",
       "       -0.1972363 , -0.85136724,  0.99840498])"
      ]
     },
     "execution_count": 72,
     "metadata": {},
     "output_type": "execute_result"
    }
   ],
   "source": [
    "theta0 = logit.starting_values(y, x)\n",
    "theta0 "
   ]
  },
  {
   "cell_type": "code",
   "execution_count": 73,
   "metadata": {},
   "outputs": [
    {
     "data": {
      "text/plain": [
       "True"
      ]
     },
     "execution_count": 73,
     "metadata": {},
     "output_type": "execute_result"
    }
   ],
   "source": [
    "ll = logit.loglikelihood(theta0, y, x)\n",
    "np.isclose(np.mean(ll),-0.9974267061091704)"
   ]
  },
  {
   "cell_type": "code",
   "execution_count": 74,
   "metadata": {
    "tags": []
   },
   "outputs": [
    {
     "name": "stdout",
     "output_type": "stream",
     "text": [
      "Optimization terminated successfully.\n",
      "         Current function value: 0.583469\n",
      "         Iterations: 47\n",
      "         Function evaluations: 441\n",
      "         Gradient evaluations: 49\n"
     ]
    }
   ],
   "source": [
    "logit_results = est.estimate(logit.q, theta0, y, x)"
   ]
  },
  {
   "cell_type": "code",
   "execution_count": 75,
   "metadata": {},
   "outputs": [
    {
     "name": "stdout",
     "output_type": "stream",
     "text": [
      "Optimizer succeded after 47 iter. (441 func. evals.). Final criterion:   0.5835.\n",
      "Logit, y = lfp\n"
     ]
    },
    {
     "data": {
      "text/html": [
       "<div>\n",
       "<style scoped>\n",
       "    .dataframe tbody tr th:only-of-type {\n",
       "        vertical-align: middle;\n",
       "    }\n",
       "\n",
       "    .dataframe tbody tr th {\n",
       "        vertical-align: top;\n",
       "    }\n",
       "\n",
       "    .dataframe thead th {\n",
       "        text-align: right;\n",
       "    }\n",
       "</style>\n",
       "<table border=\"1\" class=\"dataframe\">\n",
       "  <thead>\n",
       "    <tr style=\"text-align: right;\">\n",
       "      <th></th>\n",
       "      <th>theta</th>\n",
       "      <th>se</th>\n",
       "      <th>t</th>\n",
       "    </tr>\n",
       "  </thead>\n",
       "  <tbody>\n",
       "    <tr>\n",
       "      <th>const</th>\n",
       "      <td>6.1955</td>\n",
       "      <td>2.4821</td>\n",
       "      <td>2.4960</td>\n",
       "    </tr>\n",
       "    <tr>\n",
       "      <th>age</th>\n",
       "      <td>3.4368</td>\n",
       "      <td>0.7091</td>\n",
       "      <td>4.8464</td>\n",
       "    </tr>\n",
       "    <tr>\n",
       "      <th>agesq</th>\n",
       "      <td>-0.4877</td>\n",
       "      <td>0.0872</td>\n",
       "      <td>-5.5928</td>\n",
       "    </tr>\n",
       "    <tr>\n",
       "      <th>educ</th>\n",
       "      <td>0.0327</td>\n",
       "      <td>0.0302</td>\n",
       "      <td>1.0819</td>\n",
       "    </tr>\n",
       "    <tr>\n",
       "      <th>nyc</th>\n",
       "      <td>-1.1857</td>\n",
       "      <td>0.1647</td>\n",
       "      <td>-7.2010</td>\n",
       "    </tr>\n",
       "    <tr>\n",
       "      <th>noc</th>\n",
       "      <td>-0.2410</td>\n",
       "      <td>0.0833</td>\n",
       "      <td>-2.8940</td>\n",
       "    </tr>\n",
       "    <tr>\n",
       "      <th>nlinc</th>\n",
       "      <td>-1.1040</td>\n",
       "      <td>0.2304</td>\n",
       "      <td>-4.7914</td>\n",
       "    </tr>\n",
       "    <tr>\n",
       "      <th>foreign</th>\n",
       "      <td>1.1683</td>\n",
       "      <td>0.2025</td>\n",
       "      <td>5.7689</td>\n",
       "    </tr>\n",
       "  </tbody>\n",
       "</table>\n",
       "</div>"
      ],
      "text/plain": [
       "          theta      se       t\n",
       "const    6.1955  2.4821  2.4960\n",
       "age      3.4368  0.7091  4.8464\n",
       "agesq   -0.4877  0.0872 -5.5928\n",
       "educ     0.0327  0.0302  1.0819\n",
       "nyc     -1.1857  0.1647 -7.2010\n",
       "noc     -0.2410  0.0833 -2.8940\n",
       "nlinc   -1.1040  0.2304 -4.7914\n",
       "foreign  1.1683  0.2025  5.7689"
      ]
     },
     "execution_count": 75,
     "metadata": {},
     "output_type": "execute_result"
    }
   ],
   "source": [
    "logit_tab = est.print_table(x_lab, logit_results, title=f'Logit, y = {y_lab}')\n",
    "logit_tab"
   ]
  },
  {
   "cell_type": "markdown",
   "metadata": {},
   "source": [
    "Expected output: \n",
    "\n",
    "Optimizer succeded after 47 iter. (441 func. evals.). Final criterion:   0.5835.\n",
    "Logit, y = lfp\n",
    "\n",
    "|         |   theta |     se |       t |\n",
    "|:--------|--------:|-------:|--------:|\n",
    "| const   |  6.1955 | 2.4821 |  2.496  |\n",
    "| age     |  3.4368 | 0.7091 |  4.8464 |\n",
    "| agesq   | -0.4877 | 0.0872 | -5.5928 |\n",
    "| educ    |  0.0327 | 0.0302 |  1.0819 |\n",
    "| nyc     | -1.1857 | 0.1647 | -7.201  |\n",
    "| noc     | -0.241  | 0.0833 | -2.894  |\n",
    "| nlinc   | -1.104  | 0.2304 | -4.7914 |\n",
    "| foreign |  1.1683 | 0.2025 |  5.7689 |"
   ]
  },
  {
   "cell_type": "markdown",
   "metadata": {},
   "source": [
    "# Question 5: Comparing the raw parameter estimates \n",
    "\n",
    "A frequent rule of thumb is that the relationship between the parameter estimates is \n",
    "$$\n",
    "\\begin{aligned}\n",
    "\\hat{\\beta}_{Logit}&\\simeq4\\hat{\\beta}_{OLS}\\\\\n",
    "\\hat{\\beta}_{Probit}&\\simeq2.5\\hat{\\beta}_{OLS}\\\\\n",
    "\\hat{\\beta}_{Logit}&\\simeq1.6\\hat{\\beta}_{Probit}\n",
    "\\end{aligned}\n",
    "$$\n",
    "\n",
    "Test this by calculating the ratios between the estimated coefficients: \n",
    "$$\\left(\\frac{\\hat{\\beta}_{Logit}}{\\hat{\\beta}_{OLS}}, \\frac{\\hat{\\beta}_{Probit}}{\\hat{\\beta}_{OLS}},\\frac{\\hat{\\beta}_{Logit}}{\\hat{\\beta}_{Probit}} \\right)$$\n",
    "\n",
    "***Hint:*** Parameters are either in the results dictionaries, e.g. `results_probit['theta']`, or in the pandas dataframes, `probit_tab['theta']`. "
   ]
  },
  {
   "cell_type": "code",
   "execution_count": 76,
   "metadata": {},
   "outputs": [
    {
     "name": "stdout",
     "output_type": "stream",
     "text": [
      "Probit / OLS\n",
      "const      2.253351\n",
      "age        3.040879\n",
      "agesq      3.035052\n",
      "educ       2.865672\n",
      "nyc        2.969659\n",
      "noc        2.981744\n",
      "nlinc      3.133929\n",
      "foreign    2.862179\n",
      "dtype: float64\n"
     ]
    }
   ],
   "source": [
    "print('Probit / OLS')\n",
    "print(probit_tab.theta / ols_tab.b_hat)"
   ]
  },
  {
   "cell_type": "code",
   "execution_count": 77,
   "metadata": {},
   "outputs": [
    {
     "name": "stdout",
     "output_type": "stream",
     "text": [
      "Logit / OLS\n",
      "const      3.723929\n",
      "age        5.035604\n",
      "agesq      5.027835\n",
      "educ       4.880597\n",
      "nyc        4.928096\n",
      "noc        4.888438\n",
      "nlinc      5.187970\n",
      "foreign    4.680689\n",
      "dtype: float64\n"
     ]
    }
   ],
   "source": [
    "print('Logit / OLS')\n",
    "print(logit_tab.theta / ols_tab.b_hat)"
   ]
  },
  {
   "cell_type": "code",
   "execution_count": 78,
   "metadata": {},
   "outputs": [
    {
     "name": "stdout",
     "output_type": "stream",
     "text": [
      "Probit / Logit\n",
      "const      0.605100\n",
      "age        0.603876\n",
      "agesq      0.603650\n",
      "educ       0.587156\n",
      "nyc        0.602598\n",
      "noc        0.609959\n",
      "nlinc      0.604076\n",
      "foreign    0.611487\n",
      "Name: theta, dtype: float64\n"
     ]
    }
   ],
   "source": [
    "print('Probit / Logit')\n",
    "print(probit_tab.theta / logit_tab.theta)"
   ]
  },
  {
   "cell_type": "markdown",
   "metadata": {},
   "source": [
    "# Question 6: Marginal effects for a continuous variable\n",
    "Calculate the marginal effect of taking one additional year of\n",
    "education (coefficient `k = 3`) on the probability of participating in the labor market \n",
    "for a woman with the following characteristics, `x_me`: \n",
    "\n",
    "|      |   const |   age |   agesq |   educ |   nyc |   noc |   nlinc |   foreign |\n",
    "|:-----|--------:|------:|--------:|-------:|------:|------:|--------:|----------:|\n",
    "| x_me |       1 |   2.5 |    6.25 |     10 |     1 |     0 |      10 |         0 |\n",
    "\n",
    "* *Note:* `age` is divided by 10, so 2.5 does make sense. \n",
    "\n",
    "Consider education as a continuous variable. The marginal effect should be calculated for the LPM, the probit and the logit models."
   ]
  },
  {
   "cell_type": "markdown",
   "metadata": {},
   "source": [
    "The partial (also called marginal) effects in the Logit and Probit\n",
    "models depend upon the regressors, $x_{k}$. For continuous variables the\n",
    "partial effects are given as,\n",
    "$$\n",
    "\\begin{aligned} \n",
    "\\text{Marginal effect} : \\frac{\\partial P\\left(y_{i}=1\\left|\\mathbf{x}_i \\right.\\right)}{\\partial x_{ik}}\n",
    "&=G'(\\mathbf{x}_i \\beta) \n",
    "   \\frac{\\partial}{\\partial x_{ik}} \\mathbf{x}_i \\beta \\\\\n",
    "&=g(\\mathbf{x}_i \\beta)\\beta_{k}\n",
    "\\end{aligned} \n",
    "$$\n",
    "where the derivatives of the CDF, $G'(z) \\equiv g(z)$, for the logit and probit models are given by\n",
    "$$\n",
    "\\begin{aligned} \n",
    "g^{\\text{logit}}\\left(z\\right) &= \\frac{\\exp\\left(z\\right)}{\\left[ 1+\\exp\\left(z\\right)\\right] ^2} \\\\ \n",
    "g^{\\text{probit}}\\left(z\\right) &= \\phi(z) \\equiv \\frac{1}{\\sqrt{2\\pi}}\\exp\\left(\\frac{-z^{2}}{2}\\right)\n",
    "\\end{aligned} \n",
    "$$\n"
   ]
  },
  {
   "cell_type": "code",
   "execution_count": 92,
   "metadata": {},
   "outputs": [
    {
     "data": {
      "text/html": [
       "<div>\n",
       "<style scoped>\n",
       "    .dataframe tbody tr th:only-of-type {\n",
       "        vertical-align: middle;\n",
       "    }\n",
       "\n",
       "    .dataframe tbody tr th {\n",
       "        vertical-align: top;\n",
       "    }\n",
       "\n",
       "    .dataframe thead th {\n",
       "        text-align: right;\n",
       "    }\n",
       "</style>\n",
       "<table border=\"1\" class=\"dataframe\">\n",
       "  <thead>\n",
       "    <tr style=\"text-align: right;\">\n",
       "      <th></th>\n",
       "      <th>const</th>\n",
       "      <th>age</th>\n",
       "      <th>agesq</th>\n",
       "      <th>educ</th>\n",
       "      <th>nyc</th>\n",
       "      <th>noc</th>\n",
       "      <th>nlinc</th>\n",
       "      <th>foreign</th>\n",
       "    </tr>\n",
       "  </thead>\n",
       "  <tbody>\n",
       "    <tr>\n",
       "      <th>x_me</th>\n",
       "      <td>1.0</td>\n",
       "      <td>2.5</td>\n",
       "      <td>6.25</td>\n",
       "      <td>10.0</td>\n",
       "      <td>1.0</td>\n",
       "      <td>0.0</td>\n",
       "      <td>10.0</td>\n",
       "      <td>0.0</td>\n",
       "    </tr>\n",
       "  </tbody>\n",
       "</table>\n",
       "</div>"
      ],
      "text/plain": [
       "      const  age  agesq  educ  nyc  noc  nlinc  foreign\n",
       "x_me    1.0  2.5   6.25  10.0  1.0  0.0   10.0      0.0"
      ]
     },
     "execution_count": 92,
     "metadata": {},
     "output_type": "execute_result"
    }
   ],
   "source": [
    "# Let us make a vector of the values we want to investigate\n",
    "x_me = np.array([1.0, 2.5, 2.5**2, 10, 1, 0, 10, 0]).reshape(1, K) # recall, x_i is a *row* vector\n",
    "pd.DataFrame(x_me, columns=x_lab, index=['x_me']) # print it out "
   ]
  },
  {
   "cell_type": "code",
   "execution_count": 94,
   "metadata": {},
   "outputs": [
    {
     "data": {
      "text/html": [
       "<div>\n",
       "<style scoped>\n",
       "    .dataframe tbody tr th:only-of-type {\n",
       "        vertical-align: middle;\n",
       "    }\n",
       "\n",
       "    .dataframe tbody tr th {\n",
       "        vertical-align: top;\n",
       "    }\n",
       "\n",
       "    .dataframe thead th {\n",
       "        text-align: right;\n",
       "    }\n",
       "</style>\n",
       "<table border=\"1\" class=\"dataframe\">\n",
       "  <thead>\n",
       "    <tr style=\"text-align: right;\">\n",
       "      <th></th>\n",
       "      <th>Marg. Eff. of educ</th>\n",
       "    </tr>\n",
       "  </thead>\n",
       "  <tbody>\n",
       "    <tr>\n",
       "      <th>OLS</th>\n",
       "      <td>0.006657</td>\n",
       "    </tr>\n",
       "    <tr>\n",
       "      <th>Probit</th>\n",
       "      <td>0.007626</td>\n",
       "    </tr>\n",
       "    <tr>\n",
       "      <th>Logit</th>\n",
       "      <td>0.008123</td>\n",
       "    </tr>\n",
       "  </tbody>\n",
       "</table>\n",
       "</div>"
      ],
      "text/plain": [
       "        Marg. Eff. of educ\n",
       "OLS               0.006657\n",
       "Probit            0.007626\n",
       "Logit             0.008123"
      ]
     },
     "execution_count": 94,
     "metadata": {},
     "output_type": "execute_result"
    }
   ],
   "source": [
    "k = 3 # the parameter to take derivative wrt. \n",
    "\n",
    "# Let us get the beta coefficients that we are interested in.\n",
    "b_pr = probit_tab.theta.values\n",
    "b_lg = logit_tab.theta.values\n",
    "\n",
    "# Calculate the marginal effects bot for the logit and probit.\n",
    "# For the probit, you can use norm.pdf for g\n",
    "# For the logit, g should be straight forward using the given function.\n",
    "me_educ_pr = norm.pdf(x_me@b_pr)*b_pr[k]\n",
    "me_educ_lg = np.exp(x_me@b_lg) / ((1 + np.exp(x_me@b_lg))**2) * b_lg[k]\n",
    "\n",
    "# print results \n",
    "pd.DataFrame([ols_results['b_hat'][k], \n",
    "              me_educ_pr[0],\n",
    "              me_educ_lg[0]],\n",
    "             index=['OLS', 'Probit', 'Logit'], columns=[f'Marg. Eff. of {x_lab[k]}']).round(6)"
   ]
  },
  {
   "cell_type": "markdown",
   "metadata": {},
   "source": [
    "# Question 7: Marginal effect for dummy variables \n",
    "\n",
    "Calculate the marginal effect of being a permanent foreign resident on the probability of participating in the labor market.\n",
    "\n",
    "\n",
    "For discrete variables the partial effects are given as,\n",
    "$$\n",
    "G\\left(\\beta_{0}+\\beta_{1}x_{1}+\\cdots+\\beta_{K-1}x_{K-1}+\\color{red}{\\beta_{K}} \\right)-G\\left(\\beta_{0}+\\beta_{1}x_{1}+\\cdots+\\beta_{K-1}x_{K-1}\\right)\n",
    "$$\n",
    "\n",
    "where $G$ is either $\\Phi$ for the probit model, and $\\Lambda$ for the logit.\n"
   ]
  },
  {
   "cell_type": "code",
   "execution_count": 95,
   "metadata": {},
   "outputs": [
    {
     "data": {
      "text/html": [
       "<div>\n",
       "<style scoped>\n",
       "    .dataframe tbody tr th:only-of-type {\n",
       "        vertical-align: middle;\n",
       "    }\n",
       "\n",
       "    .dataframe tbody tr th {\n",
       "        vertical-align: top;\n",
       "    }\n",
       "\n",
       "    .dataframe thead th {\n",
       "        text-align: right;\n",
       "    }\n",
       "</style>\n",
       "<table border=\"1\" class=\"dataframe\">\n",
       "  <thead>\n",
       "    <tr style=\"text-align: right;\">\n",
       "      <th></th>\n",
       "      <th>Marg. Eff.: foreign</th>\n",
       "    </tr>\n",
       "  </thead>\n",
       "  <tbody>\n",
       "    <tr>\n",
       "      <th>OLS</th>\n",
       "      <td>0.2496</td>\n",
       "    </tr>\n",
       "    <tr>\n",
       "      <th>Probit</th>\n",
       "      <td>0.2700</td>\n",
       "    </tr>\n",
       "    <tr>\n",
       "      <th>Logit</th>\n",
       "      <td>0.2726</td>\n",
       "    </tr>\n",
       "  </tbody>\n",
       "</table>\n",
       "</div>"
      ],
      "text/plain": [
       "        Marg. Eff.: foreign\n",
       "OLS                  0.2496\n",
       "Probit               0.2700\n",
       "Logit                0.2726"
      ]
     },
     "execution_count": 95,
     "metadata": {},
     "output_type": "execute_result"
    }
   ],
   "source": [
    "# We will look at the same values as previously, but we want to look at the difference for foreign = 0 and foreign = 1.\n",
    "k = 7 \n",
    "x_me2 = x_me.copy()\n",
    "x_me2[:, k] = 1  # Keep everythin the same, but change foreign to 1 for all obs. \n",
    "\n",
    "# For the probit, calculate the norm.cdf for foreign = 1, and subtract foreign = 0\n",
    "me_foreign_pr = probit.G(x_me2@b_pr) - probit.G(x_me@b_pr) \n",
    "\n",
    "# The same for the logit, calculate using the G() function for logit, for foreign = 1, and subtract foreign = 0\n",
    "me_foreign_lg = logit.G(x_me2@b_lg) - logit.G(x_me@b_lg)\n",
    "\n",
    "# print results \n",
    "pd.DataFrame([ols_results['b_hat'][k], \n",
    "              me_foreign_pr[0],\n",
    "              me_foreign_lg[0]],\n",
    "             index=['OLS', 'Probit', 'Logit'], columns=[f'Marg. Eff.: {x_lab[k]}']).round(4)"
   ]
  },
  {
   "cell_type": "markdown",
   "metadata": {},
   "source": [
    "# Question 8: Standard errors of the marginal effects with the Delta Method\n",
    "\n",
    "(This part referres to the material covered in the note, \"The Delta Method\".) \n",
    "\n",
    "Marginal effects are a function of the estimated parameters, $\\mathbf{h}(\\hat{\\theta})$, which is a $K$-vector. The Delta Method tells us how to compute standard errors for $\\mathbf{h}(\\hat{\\boldsymbol{\\theta}})$ based on an estimated covariance matrix for $\\hat{\\boldsymbol{\\theta}}$. To do this, define the $K \\times K$ matrix of derivatives of $\\mathbf{h}$\n",
    "$$ \\mathbf{g} = \\nabla_\\theta \\mathbf{h}(\\hat{\\boldsymbol{\\theta}}).$$\n",
    "\n",
    "Then we have \n",
    "$$ \\text{Avar}[\\mathbf{h}(\\hat{\\boldsymbol{\\theta}})] = \\mathbf{g} \\, \\text{Avar}(\\hat{\\boldsymbol{\\theta}}) \\, \\mathbf{g}'$$\n",
    "\n",
    "## Probit\n",
    "\n",
    "In the following, you should compute the standard errors for the two marginal effects computed earlier, continuous (education) and discrete (foreign). \n",
    "\n",
    "### Continuous case \n",
    "From the note, we have \n",
    "\n",
    "$$ \\mathbf{g} = \\phi(\\mathbf{x}_0 \\hat{\\boldsymbol{\\beta}}) \n",
    "    \\left [\\mathbf{I}_{K\\times K} - (\\hat{\\boldsymbol{\\beta}} \\hat{\\boldsymbol{\\beta}}') (\\mathbf{x}_0' \\mathbf{x}_0) \\right] $$ \n",
    "\n",
    "Note that both $\\hat{\\boldsymbol{\\beta}} \\hat{\\boldsymbol{\\beta}}'$ and $\\mathbf{x}_0' \\mathbf{x}_0$ are $K \\times K$ matrices (outer products). \n",
    "\n",
    "### Discrete case \n",
    "\n",
    "Here, we simply evaluate \n",
    "$$ \\mathbf{g}_k = \\phi(\\mathbf{x}_1 \\hat{\\boldsymbol{\\beta}}) \\mathbf{x}_1 - \\phi(\\mathbf{x}_0 \\hat{\\boldsymbol{\\beta}}) \\mathbf{x}_0, $$\n",
    "which is just $1 \\times K$ (as $\\mathbf{h}$), where the effect is coming only through the changes from $\\mathbf{x}_0$ to $\\mathbf{x}_1$ (which are subsumed in the notation, but we changed only the `k`th element of `x_me`.)\n",
    "\n",
    "***Hint:*** Note that $\\phi(\\mathbf{x}_1 \\hat{\\boldsymbol{\\beta}})$ and $\\phi(\\mathbf{x}_0 \\hat{\\boldsymbol{\\beta}}) $ are both *scalars*, whereas $\\mathbf{x}_0, \\mathbf{x}_1$ are $1\\times K$ *vectors*. Make sure that you get an $1 \\times K$ vector as a result of the products (the choice of `@` vs. `*`). "
   ]
  },
  {
   "cell_type": "code",
   "execution_count": 96,
   "metadata": {},
   "outputs": [],
   "source": [
    "bb = np.outer(b_pr,b_pr)\n",
    "xx = np.outer(x_me, x_me)\n",
    "I_K = np.eye(K)\n",
    "gx0 = norm.pdf(x_me@b_pr)\n",
    "gx2 = norm.pdf(x_me2@b_pr)\n",
    "\n",
    "grad_c_pr = gx0*(np.eye(K) - bb @ xx)\n",
    "grad_d_pr = gx2*x_me2 - gx0*x_me"
   ]
  },
  {
   "cell_type": "code",
   "execution_count": 97,
   "metadata": {},
   "outputs": [
    {
     "data": {
      "text/plain": [
       "True"
      ]
     },
     "execution_count": 97,
     "metadata": {},
     "output_type": "execute_result"
    }
   ],
   "source": [
    "grad_c_pr.shape == (8,8)"
   ]
  },
  {
   "cell_type": "code",
   "execution_count": 98,
   "metadata": {},
   "outputs": [
    {
     "data": {
      "text/plain": [
       "True"
      ]
     },
     "execution_count": 98,
     "metadata": {},
     "output_type": "execute_result"
    }
   ],
   "source": [
    "grad_d_pr.shape == (1,8)"
   ]
  },
  {
   "cell_type": "code",
   "execution_count": 99,
   "metadata": {},
   "outputs": [],
   "source": [
    "def get_se(grad, cov):\n",
    "    cov_me = grad@cov@grad.T\n",
    "    return np.sqrt(np.diag(cov_me))\n",
    "\n",
    "se_c_pr = get_se(grad_c_pr, probit_results['cov'])\n",
    "se_d_pr = get_se(grad_d_pr, probit_results['cov'])"
   ]
  },
  {
   "cell_type": "code",
   "execution_count": 100,
   "metadata": {},
   "outputs": [
    {
     "data": {
      "text/html": [
       "<div>\n",
       "<style scoped>\n",
       "    .dataframe tbody tr th:only-of-type {\n",
       "        vertical-align: middle;\n",
       "    }\n",
       "\n",
       "    .dataframe tbody tr th {\n",
       "        vertical-align: top;\n",
       "    }\n",
       "\n",
       "    .dataframe thead th {\n",
       "        text-align: right;\n",
       "    }\n",
       "</style>\n",
       "<table border=\"1\" class=\"dataframe\">\n",
       "  <thead>\n",
       "    <tr style=\"text-align: right;\">\n",
       "      <th></th>\n",
       "      <th>Marginal Effect</th>\n",
       "      <th>s.e.</th>\n",
       "      <th>t</th>\n",
       "    </tr>\n",
       "    <tr>\n",
       "      <th>Var</th>\n",
       "      <th></th>\n",
       "      <th></th>\n",
       "      <th></th>\n",
       "    </tr>\n",
       "  </thead>\n",
       "  <tbody>\n",
       "    <tr>\n",
       "      <th>educ</th>\n",
       "      <td>0.0076</td>\n",
       "      <td>0.0072</td>\n",
       "      <td>1.0615</td>\n",
       "    </tr>\n",
       "    <tr>\n",
       "      <th>foreign</th>\n",
       "      <td>0.2700</td>\n",
       "      <td>0.0435</td>\n",
       "      <td>6.2067</td>\n",
       "    </tr>\n",
       "  </tbody>\n",
       "</table>\n",
       "</div>"
      ],
      "text/plain": [
       "         Marginal Effect    s.e.       t\n",
       "Var                                     \n",
       "educ              0.0076  0.0072  1.0615\n",
       "foreign           0.2700  0.0435  6.2067"
      ]
     },
     "execution_count": 100,
     "metadata": {},
     "output_type": "execute_result"
    }
   ],
   "source": [
    "me_dict = {'Marginal Effect': np.vstack([me_educ_pr, me_foreign_pr])[:,0],\n",
    "           's.e.':            np.vstack([se_c_pr[3], se_d_pr])[:,0]}\n",
    "tab = pd.DataFrame(me_dict,index=['educ', 'foreign'])\n",
    "tab['t'] = tab['Marginal Effect'] / tab['s.e.']\n",
    "tab.index.name = 'Var'\n",
    "tab.round(4)"
   ]
  },
  {
   "cell_type": "markdown",
   "metadata": {},
   "source": [
    "Expected output: \n",
    "\n",
    "| Var     |   Marginal Effect |   s.e. |      t |\n",
    "|:--------|------------------:|-------:|-------:|\n",
    "| educ    |            0.0076 | 0.0072 | 1.0615 |\n",
    "| foreign |            0.27   | 0.0435 | 6.2068 |"
   ]
  },
  {
   "cell_type": "markdown",
   "metadata": {},
   "source": [
    "# Bonus Question: Visual comparison\n",
    "\n",
    "Write the `predict` functions for each of the modules `LinearModel.py`, `probit.py`, `logit.py`, which should implement the following:  \n",
    "$$ \\begin{aligned} \n",
    "\\text{OLS} : \\hat{y}_i &= \\mathbf{x}_i \\hat{\\boldsymbol{\\beta}}^{\\text{OLS}} \\\\ \n",
    "\\text{Probit} : \\hat{y}_i &= \\Phi(\\mathbf{x}_i \\hat{\\boldsymbol{\\beta}}^{\\text{Probit}} ) \\\\ \n",
    "\\text{Logit} : \\hat{y}_i &= \\frac{1}{1 - \\exp(-\\mathbf{x}_i \\hat{\\boldsymbol{\\beta}}^{\\text{Logit}})} \n",
    "\\end{aligned}\n",
    "$$"
   ]
  },
  {
   "cell_type": "code",
   "execution_count": 101,
   "metadata": {},
   "outputs": [],
   "source": [
    "assert np.isclose(np.mean(lm.predict(ols_results['b_hat'],            x)), 0.4598623853211138)\n",
    "assert np.isclose(np.mean(probit.predict(probit_results['theta'], x)), 0.4606644315844275)\n",
    "assert np.isclose(np.mean(logit.predict(logit_results['theta'],   x)), 0.45986185654454603)"
   ]
  },
  {
   "cell_type": "code",
   "execution_count": 102,
   "metadata": {},
   "outputs": [
    {
     "data": {
      "image/png": "[encoded data removed]",
      "text/plain": [
       "<Figure size 432x288 with 1 Axes>"
      ]
     },
     "metadata": {},
     "output_type": "display_data"
    },
    {
     "data": {
      "image/png": "[encoded data removed]",
      "text/plain": [
       "<Figure size 432x288 with 1 Axes>"
      ]
     },
     "metadata": {},
     "output_type": "display_data"
    },
    {
     "data": {
      "image/png": "[encoded data removed]",
      "text/plain": [
       "<Figure size 432x288 with 1 Axes>"
      ]
     },
     "metadata": {},
     "output_type": "display_data"
    }
   ],
   "source": [
    "def plot_fit(theta, yhat, y, x, k:int, title=None): \n",
    "    '''plot_fit(): plot the predictions, f_predict(theta,x), from the model against the data\n",
    "    Args. \n",
    "        theta: array of parameters, \n",
    "        yhat: fitted values \n",
    "        y: actual outcome \n",
    "        x: regressors \n",
    "        k: index for the regressor, x[:,k], to put on the x axis \n",
    "    '''\n",
    "    \n",
    "    fig, ax = plt.subplots(); \n",
    "    ax.plot(x[:,k], yhat, 'x', alpha=0.3, label='Model'); \n",
    "    ax.plot(x[:,k], y,    'o', alpha=0.1, label='Data')\n",
    "    \n",
    "    # nicify \n",
    "    ax.set_xlabel(x_lab[k]); \n",
    "    ax.set_ylabel('Pr(y = 1|x)')\n",
    "    ax.set_title(title)\n",
    "    ax.legend()\n",
    "\n",
    "k = 3 # which variable to put on the x-axis \n",
    "\n",
    "yhatO = lm.predict(ols_results['b_hat'], x)\n",
    "plot_fit(ols_results['b_hat'], yhatO, y, x, k, 'LPM')\n",
    "\n",
    "yhatP = probit.predict(probit_results['theta'], x)\n",
    "plot_fit(probit_results['theta'], yhatP, y, x, k, 'Probit')\n",
    "\n",
    "yhatL = logit.predict(logit_results['theta'], x)\n",
    "plot_fit(logit_results['theta'], yhatL, y, x, k, 'Logit')"
   ]
  }
 ],
 "metadata": {
  "kernelspec": {
   "display_name": "Python 3 (ipykernel)",
   "language": "python",
   "name": "python3"
  },
  "language_info": {
   "codemirror_mode": {
    "name": "ipython",
    "version": 3
   },
   "file_extension": ".py",
   "mimetype": "text/x-python",
   "name": "python",
   "nbconvert_exporter": "python",
   "pygments_lexer": "ipython3",
   "version": "3.9.13"
  }
 },
 "nbformat": 4,
 "nbformat_minor": 4
}
